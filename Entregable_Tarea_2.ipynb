{
  "cells": [
    {
      "attachments": {},
      "cell_type": "markdown",
      "metadata": {
        "id": "QBcH248yyO8_"
      },
      "source": [
        "<center><img src=\"data:image/png;base64,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\" title=\"Title text\" /></center>\n",
        "\n",
        "\n",
        "\n",
        "<hr style=\"height:2px;border:none\"/>\n",
        "<h1 align='center'> INF-398 INTRODUCCIÓN AL APRENDIZAJE AUTOMÁTICO - 2023-1 </h1>\n",
        "\n",
        "<H3 align='center'> Tarea 2  </H3>\n",
        "<hr style=\"height:2px;border:none\"/>"
      ]
    },
    {
      "attachments": {},
      "cell_type": "markdown",
      "metadata": {
        "id": "LljwGpbwyflL"
      },
      "source": [
        "**Temas**  \n",
        "* Manipulaciones en pandas y numpy, imputación de datos y preprocesamientos\n",
        "* Feature Engineering\n",
        "* Regresión\n",
        "* Clasificación\n",
        "* Árboles y Bosques de Regresión\n",
        "* Máquinas de ensamblado\n",
        "* Redes Neuronales\n",
        "\n",
        "\n",
        "**Formalidades**  \n",
        "* Equipos de trabajo de 3 personas (*Los estudiantes deben estar preparados para presentar la tarea el día de la entrega*)\n",
        "* El entregable debe ser un _Jupyter Notebook_ incluyendo los códigos utilizados, los resultados, los gráficos realizados y comentarios. Debe seguir una estructura similar a un informe (se debe introducir los problemas a trabajar, presentar los resultados y discutirlos), se penalizará fuertemente ausencia de comentarios, explicaciones de gráficos, _etc_. Las preguntas que deben responder se encuentran especificadas explícitamente con letras, ejemplo a) b) c), por lo tanto cualquier pregunta que se encuentre incompleta será penalizada con descuento del puntaje. Recuerde que los códigos presentes en este documento son solo una guía de referencia, por lo tanto no necesariamente funcionan, usted debe mostrar todos sus conocimientos aprendidos a lo largo de la carrera para que su código funcione como se espera. Si lo prefiere puede entregar un _Jupyter Notebook_ por pregunta o uno por toda la tarea, con tal de que todos los entregables esten bien identificados y se encuentren en el mismo repositorio de _Github_.\n",
        "* Se debe preparar una presentación del trabajo realizado y sus hallazgos. El presentador será elegido aleatoriamente y deberá apoyarse en el _Jupyter Notebook_ que entregarán. \n",
        "* Formato de entrega: envı́o de link del repositorio en _Github_, al correo electrónico de los ayudantes (<sebastian.sanchezl@sansano.usm.cl>), en copia al profesor (<cvalle@inf.utfsm.cl>). Especificar el siguiente asunto: [INF-398-2023-1 Tarea 2]. Invitar como colaborador a los usuarios de github \"ssanchezl\" para poder acceder al repositorio en caso de ser privado.\n",
        "\n",
        "* Fecha de presentaciones 30 de Junio, en horario de clases.\n",
        "* Fecha de entrega: 01 de Julio. Hora límite de entrega: 12:00 p.m. Cualquier _commit_ luego de la hora límite no será evaluado. Se realizará descuento por atrasos en envío del mail igualmente.  \n",
        "\n",
        "<hr style=\"height:2px;border:none\"/>"
      ]
    },
    {
      "attachments": {},
      "cell_type": "markdown",
      "metadata": {},
      "source": [
        "<hr style=\"height:2px;border:none\"/>\n",
        "\n",
        "Estudiantes a cargo del presente informe con sus respectivos roles USM:\n",
        "\n",
        "- **Diego Astaburuaga: 202010018-7**\n",
        "\n",
        "- **David Rivas: 202010014-4**\n",
        "\n",
        "- **Dominique Yessouroun: 201910005-k**\n",
        "\n",
        "<hr style=\"height:2px;border:none\"/>"
      ]
    },
    {
      "attachments": {},
      "cell_type": "markdown",
      "metadata": {
        "id": "kYiVgB4gzWfS"
      },
      "source": [
        "Importe las librerías necesarias para cargar explorar el conjunto de datos."
      ]
    },
    {
      "cell_type": "code",
      "execution_count": 1,
      "metadata": {
        "id": "sXeu58BVOsb0"
      },
      "outputs": [],
      "source": [
        "import numpy as np\n",
        "import pandas as pd\n",
        "import seaborn as sns\n",
        "import matplotlib.pyplot as plt\n",
        "import sklearn as sk\n",
        "from sklearn import preprocessing\n",
        "from sklearn.preprocessing import OneHotEncoder\n",
        "from sklearn.model_selection import train_test_split, cross_val_score, KFold, GridSearchCV\n",
        "from sklearn.metrics import mean_squared_error, classification_report, confusion_matrix, mean_absolute_error, mutual_info_score\n",
        "from sklearn.feature_selection import mutual_info_classif\n",
        "from sklearn.tree import DecisionTreeRegressor\n",
        "from sklearn.ensemble import RandomForestRegressor, BaggingRegressor\n",
        "from sklearn.linear_model import LinearRegression, SGDRegressor # Regresores lineales\n",
        "import warnings # ignore warnings\n",
        "\n",
        "import os\n"
      ]
    },
    {
      "attachments": {},
      "cell_type": "markdown",
      "metadata": {
        "id": "Xpssh9X6zgO0"
      },
      "source": [
        "# 1. Predicción de la calidad de vinos\n",
        "\n",
        "Los árboles de regresión, también conocidos como árboles de decisión para regresión, son un tipo de algoritmo de aprendizaje supervisado que se utiliza para predecir valores numéricos. Son una potente herramienta para tareas de regresión y ofrecen varias ventajas y consideraciones.\n",
        "\n",
        "<center><img src=https://cdn.shopify.com/s/files/1/1277/3667/files/an-essential-guide-1_480x480.png?v=1674719515></center>\n",
        "\n",
        "\n",
        "Los conjuntos de datos provienen del UCI Machine Learning Repository. Estos conjuntos de datos están relacionados con las variantes tintas y blancas del vino portugués \"Vinho Verde\".\n",
        "\n",
        "Estos dos conjuntos de datos contienen varias propiedades químicas de distintos vinos, como la acidez, el pH, el contenido de alcohol, etc. La variable objetivo es la calidad del vino la cual se puntúa del 0 al 10. Puede considerarse una tarea de clasificación o regresión en la que las clases están ordenadas y no balanceadas. Para esta pregunta nos centraremos en la tarea de regresión.\n",
        "\n",
        "Variables de entrada (basadas en pruebas físico-químicas):\n",
        "* fixed acidity\n",
        "* volatile acidity\n",
        "* citric acid\n",
        "* residual sugar\n",
        "* chlorides\n",
        "* free sulfur dioxide\n",
        "* total sulfur dioxide\n",
        "* density\n",
        "* pH\n",
        "* sulphates\n",
        "* alcohol\n",
        "* tipo\n",
        "\n",
        "Variable objetivo (basadas en datos sensoriales):\n",
        "* quality\n",
        "\n",
        "\n",
        "\n",
        "Para obtener más información sobre este conjunto de datos, revise el siguiente link: https://www.kaggle.com/datasets/rajyellow46/wine-quality."
      ]
    },
    {
      "attachments": {},
      "cell_type": "markdown",
      "metadata": {
        "id": "By3lx0sn7WE8"
      },
      "source": [
        "## 1.1 Manipulación y exploración del conjunto de datos\n",
        "\n",
        "Lo primero es obtener los datos, para esto se pueden descargar los archivos directamente de la página de Kaggle a través del link de la descripción de arriba.\n",
        "\n",
        "Aplique lo aprendido en la tarea 1 y obtenga los datos de la forma que le sea más conveniente siempre y cuando estos sean los del link de la descripción."
      ]
    },
    {
      "cell_type": "code",
      "execution_count": 2,
      "metadata": {
        "id": "bauoFq-V8b-C"
      },
      "outputs": [],
      "source": [
        "df = pd.read_csv('winequalityN.csv')"
      ]
    },
    {
      "cell_type": "code",
      "execution_count": 3,
      "metadata": {},
      "outputs": [
        {
          "name": "stdout",
          "output_type": "stream",
          "text": [
            "Total Rows and Columns in DataFrame is : (6497, 13) \n",
            "\n"
          ]
        },
        {
          "data": {
            "text/html": [
              "<div>\n",
              "<style scoped>\n",
              "    .dataframe tbody tr th:only-of-type {\n",
              "        vertical-align: middle;\n",
              "    }\n",
              "\n",
              "    .dataframe tbody tr th {\n",
              "        vertical-align: top;\n",
              "    }\n",
              "\n",
              "    .dataframe thead th {\n",
              "        text-align: right;\n",
              "    }\n",
              "</style>\n",
              "<table border=\"1\" class=\"dataframe\">\n",
              "  <thead>\n",
              "    <tr style=\"text-align: right;\">\n",
              "      <th></th>\n",
              "      <th>type</th>\n",
              "      <th>fixed acidity</th>\n",
              "      <th>volatile acidity</th>\n",
              "      <th>citric acid</th>\n",
              "      <th>residual sugar</th>\n",
              "      <th>chlorides</th>\n",
              "      <th>free sulfur dioxide</th>\n",
              "      <th>total sulfur dioxide</th>\n",
              "      <th>density</th>\n",
              "      <th>pH</th>\n",
              "      <th>sulphates</th>\n",
              "      <th>alcohol</th>\n",
              "      <th>quality</th>\n",
              "    </tr>\n",
              "  </thead>\n",
              "  <tbody>\n",
              "    <tr>\n",
              "      <th>0</th>\n",
              "      <td>white</td>\n",
              "      <td>7.0</td>\n",
              "      <td>0.27</td>\n",
              "      <td>0.36</td>\n",
              "      <td>20.7</td>\n",
              "      <td>0.045</td>\n",
              "      <td>45.0</td>\n",
              "      <td>170.0</td>\n",
              "      <td>1.0010</td>\n",
              "      <td>3.00</td>\n",
              "      <td>0.45</td>\n",
              "      <td>8.8</td>\n",
              "      <td>6</td>\n",
              "    </tr>\n",
              "    <tr>\n",
              "      <th>1</th>\n",
              "      <td>white</td>\n",
              "      <td>6.3</td>\n",
              "      <td>0.30</td>\n",
              "      <td>0.34</td>\n",
              "      <td>1.6</td>\n",
              "      <td>0.049</td>\n",
              "      <td>14.0</td>\n",
              "      <td>132.0</td>\n",
              "      <td>0.9940</td>\n",
              "      <td>3.30</td>\n",
              "      <td>0.49</td>\n",
              "      <td>9.5</td>\n",
              "      <td>6</td>\n",
              "    </tr>\n",
              "    <tr>\n",
              "      <th>2</th>\n",
              "      <td>white</td>\n",
              "      <td>8.1</td>\n",
              "      <td>0.28</td>\n",
              "      <td>0.40</td>\n",
              "      <td>6.9</td>\n",
              "      <td>0.050</td>\n",
              "      <td>30.0</td>\n",
              "      <td>97.0</td>\n",
              "      <td>0.9951</td>\n",
              "      <td>3.26</td>\n",
              "      <td>0.44</td>\n",
              "      <td>10.1</td>\n",
              "      <td>6</td>\n",
              "    </tr>\n",
              "    <tr>\n",
              "      <th>3</th>\n",
              "      <td>white</td>\n",
              "      <td>7.2</td>\n",
              "      <td>0.23</td>\n",
              "      <td>0.32</td>\n",
              "      <td>8.5</td>\n",
              "      <td>0.058</td>\n",
              "      <td>47.0</td>\n",
              "      <td>186.0</td>\n",
              "      <td>0.9956</td>\n",
              "      <td>3.19</td>\n",
              "      <td>0.40</td>\n",
              "      <td>9.9</td>\n",
              "      <td>6</td>\n",
              "    </tr>\n",
              "    <tr>\n",
              "      <th>4</th>\n",
              "      <td>white</td>\n",
              "      <td>7.2</td>\n",
              "      <td>0.23</td>\n",
              "      <td>0.32</td>\n",
              "      <td>8.5</td>\n",
              "      <td>0.058</td>\n",
              "      <td>47.0</td>\n",
              "      <td>186.0</td>\n",
              "      <td>0.9956</td>\n",
              "      <td>3.19</td>\n",
              "      <td>0.40</td>\n",
              "      <td>9.9</td>\n",
              "      <td>6</td>\n",
              "    </tr>\n",
              "  </tbody>\n",
              "</table>\n",
              "</div>"
            ],
            "text/plain": [
              "    type  fixed acidity  volatile acidity  citric acid  residual sugar  \\\n",
              "0  white            7.0              0.27         0.36            20.7   \n",
              "1  white            6.3              0.30         0.34             1.6   \n",
              "2  white            8.1              0.28         0.40             6.9   \n",
              "3  white            7.2              0.23         0.32             8.5   \n",
              "4  white            7.2              0.23         0.32             8.5   \n",
              "\n",
              "   chlorides  free sulfur dioxide  total sulfur dioxide  density    pH  \\\n",
              "0      0.045                 45.0                 170.0   1.0010  3.00   \n",
              "1      0.049                 14.0                 132.0   0.9940  3.30   \n",
              "2      0.050                 30.0                  97.0   0.9951  3.26   \n",
              "3      0.058                 47.0                 186.0   0.9956  3.19   \n",
              "4      0.058                 47.0                 186.0   0.9956  3.19   \n",
              "\n",
              "   sulphates  alcohol  quality  \n",
              "0       0.45      8.8        6  \n",
              "1       0.49      9.5        6  \n",
              "2       0.44     10.1        6  \n",
              "3       0.40      9.9        6  \n",
              "4       0.40      9.9        6  "
            ]
          },
          "execution_count": 3,
          "metadata": {},
          "output_type": "execute_result"
        }
      ],
      "source": [
        "# Shape of the data.\n",
        "print(\"Total Rows and Columns in DataFrame is :\", df.shape,\"\\n\") \n",
        "\n",
        "df.head()"
      ]
    },
    {
      "attachments": {},
      "cell_type": "markdown",
      "metadata": {
        "id": "64ZvvBF0WGo1"
      },
      "source": [
        "### 1.1.1 Exploración del conjunto de datos\n",
        "\n",
        "Explore el conjunto de datos y responda brevemente las siguientes preguntas:\n",
        "\n",
        "> a) ¿Cuáles variables poseen valores numéricos y cuáles poseen valores categóricos?\n",
        "\n",
        "> b) ¿Existen datos faltantes, si es así en qué atributos faltan datos y cuantos faltan?\n",
        "\n",
        "> c) ¿Qué técnicas conoce para rellenar los datos faltantes de los atributos del dataset? (si no conoce ninguna investigue al menos 2)\n",
        "\n",
        "\n"
      ]
    },
    {
      "cell_type": "code",
      "execution_count": 4,
      "metadata": {
        "id": "zHLcrSHV9CZx"
      },
      "outputs": [],
      "source": [
        "def datainfo(data):\n",
        "    temp_ps = pd.DataFrame(index=data.columns)\n",
        "    temp_ps['DataType'] = data.dtypes\n",
        "    temp_ps[\"Non-null_Values\"] = data.count()\n",
        "    temp_ps['Unique_Values'] = data.nunique()\n",
        "    temp_ps['NaN_Values'] = data.isnull().sum()\n",
        "    temp_ps['NaN_Values_Percentage'] = (temp_ps['NaN_Values']/len(data))*100 \n",
        "    return temp_ps\n",
        "\n",
        "info = datainfo(df)"
      ]
    },
    {
      "cell_type": "code",
      "execution_count": 5,
      "metadata": {},
      "outputs": [
        {
          "name": "stdout",
          "output_type": "stream",
          "text": [
            "a) Respuesta:\n",
            " Numeric variables:\n",
            "   1. (int) quality\n",
            "   2. (float) fixed acidity\n",
            "   3. (float) volatile acidity\n",
            "   4. (float) citric acid\n",
            "   5. (float) residual sugar\n",
            "   6. (float) chlorides\n",
            "   7. (float) free sulfur dioxide\n",
            "   8. (float) total sulfur dioxide\n",
            "   9. (float) density\n",
            "   10. (float) pH\n",
            "   11. (float) sulphates\n",
            "   12. (float) alcohol\n",
            "\n",
            "\n",
            " Categoric variables:\n",
            "   1. type\n"
          ]
        }
      ],
      "source": [
        "numericas_int = list(info[info['DataType'] == 'int64'].index)\n",
        "numericas_float = list(info[info['DataType'] == 'float64'].index)\n",
        "\n",
        "print('a) Respuesta:\\n Numeric variables:')\n",
        "total_int = 1\n",
        "for i,variable in enumerate(numericas_int):\n",
        "    print(f'   {i+1}. (int) {variable}')\n",
        "    total = i + 1\n",
        "for i,variable in enumerate(numericas_float):\n",
        "    print(f'   {total+i+1}. (float) {variable}')\n",
        "print('\\n')\n",
        "\n",
        "# Selecting the categoric variables\n",
        "categoricas = list(info[info['DataType'] == 'object'].index) \n",
        "print(' Categoric variables:')\n",
        "for i,variable in enumerate(categoricas):\n",
        "    print(f'   {i+1}. {variable}')"
      ]
    },
    {
      "attachments": {},
      "cell_type": "markdown",
      "metadata": {},
      "source": [
        "b) `Respuesta`: Si existen datos faltantes, se muestran acontinuiación en formato 'atributo' 'cantidad faltante'."
      ]
    },
    {
      "cell_type": "code",
      "execution_count": 6,
      "metadata": {},
      "outputs": [
        {
          "data": {
            "text/plain": [
              "fixed acidity       10\n",
              "volatile acidity     8\n",
              "citric acid          3\n",
              "residual sugar       2\n",
              "chlorides            2\n",
              "pH                   9\n",
              "sulphates            4\n",
              "Name: NaN_Values, dtype: int64"
            ]
          },
          "execution_count": 6,
          "metadata": {},
          "output_type": "execute_result"
        }
      ],
      "source": [
        "data_NaN = info[(info['NaN_Values'] > 0)]['NaN_Values'] \n",
        "data_NaN"
      ]
    },
    {
      "attachments": {},
      "cell_type": "markdown",
      "metadata": {},
      "source": [
        "c) `Respuesta`:\n",
        "Imputacion por la media: Como todas las columnas con datos faltantes son de carácter numérico, una opción es calcular la media de los valores de cada columna que si están presentes en el data set y utilizar dicho valor para reemplazar aquellos que falten. (que pasa si no son numericas?)\n",
        "\n",
        "Imputacion por regresion: Como nuevamente los datos son numéricos, para cada columna con datos faltantes, otra opción puede ser utilizar otra columna que no posea dicho datos faltantes (junto con otros criterios de interés) y ajustar un modelo de regresión con los datos que si están presentes y utilizarlo para predecir los valores que no estén.\n",
        "\n",
        "Imputacion por HOT-DECK: mori\n",
        "\n",
        "Impiutacion multiple!!!\n",
        "\n",
        "https://www.youtube.com/watch?v=ARwHkq4t2q0&ab_channel=CodificandoBits"
      ]
    },
    {
      "attachments": {},
      "cell_type": "markdown",
      "metadata": {
        "id": "ZURKzsF2V6t-"
      },
      "source": [
        "### 1.1.2 Exploración de Features\n",
        "\n",
        "En problemas de regresión, el desbalance de la variable objetivo se refiere a una distribución desigual de los valores de la variable objetivo en el conjunto de datos. Esto significa que hay una presencia significativa de valores en una clase o rango de valores en comparación con otras clases o rangos de valores. Considerando lo anterior responda las siguientes preguntas:\n",
        "\n",
        "> a) Grafique histogramas y box plots de cada variable y comente acerca de la distribución de las características y de la variable objetivo\n",
        "\n",
        "> b) ¿Considera que están *balanceados* los valores de la variable objetivo?\n",
        "\n",
        "> c) ¿Cómo afecta el desbalance en problemas de regresión en términos de la predicción y de la evaluación de un modelo?"
      ]
    },
    {
      "cell_type": "code",
      "execution_count": 7,
      "metadata": {
        "id": "JKqr_aVj95Jz"
      },
      "outputs": [
        {
          "data": {
            "text/plain": [
              "array([[<Axes: title={'center': 'fixed acidity'}>,\n",
              "        <Axes: title={'center': 'volatile acidity'}>,\n",
              "        <Axes: title={'center': 'citric acid'}>,\n",
              "        <Axes: title={'center': 'residual sugar'}>],\n",
              "       [<Axes: title={'center': 'chlorides'}>,\n",
              "        <Axes: title={'center': 'free sulfur dioxide'}>,\n",
              "        <Axes: title={'center': 'total sulfur dioxide'}>,\n",
              "        <Axes: title={'center': 'density'}>],\n",
              "       [<Axes: title={'center': 'pH'}>,\n",
              "        <Axes: title={'center': 'sulphates'}>,\n",
              "        <Axes: title={'center': 'alcohol'}>,\n",
              "        <Axes: title={'center': 'quality'}>],\n",
              "       [<Axes: >, <Axes: >, <Axes: >, <Axes: >]], dtype=object)"
            ]
          },
          "execution_count": 7,
          "metadata": {},
          "output_type": "execute_result"
        },
        {
          "data": {
            "image/png": "[encoded data removed]",
            "text/plain": [
              "<Figure size 1500x1500 with 16 Axes>"
            ]
          },
          "metadata": {},
          "output_type": "display_data"
        }
      ],
      "source": [
        "df.hist(figsize=(15,15), layout=(4,4), bins=20)"
      ]
    },
    {
      "cell_type": "code",
      "execution_count": 8,
      "metadata": {
        "id": "WwYbeEAp_6fd"
      },
      "outputs": [
        {
          "data": {
            "text/plain": [
              "fixed acidity              Axes(0.125,0.712609;0.168478x0.167391)\n",
              "volatile acidity        Axes(0.327174,0.712609;0.168478x0.167391)\n",
              "citric acid             Axes(0.529348,0.712609;0.168478x0.167391)\n",
              "residual sugar          Axes(0.731522,0.712609;0.168478x0.167391)\n",
              "chlorides                  Axes(0.125,0.511739;0.168478x0.167391)\n",
              "free sulfur dioxide     Axes(0.327174,0.511739;0.168478x0.167391)\n",
              "total sulfur dioxide    Axes(0.529348,0.511739;0.168478x0.167391)\n",
              "density                 Axes(0.731522,0.511739;0.168478x0.167391)\n",
              "pH                          Axes(0.125,0.31087;0.168478x0.167391)\n",
              "sulphates                Axes(0.327174,0.31087;0.168478x0.167391)\n",
              "alcohol                  Axes(0.529348,0.31087;0.168478x0.167391)\n",
              "quality                  Axes(0.731522,0.31087;0.168478x0.167391)\n",
              "dtype: object"
            ]
          },
          "execution_count": 8,
          "metadata": {},
          "output_type": "execute_result"
        },
        {
          "data": {
            "image/png": "[encoded data removed]",
            "text/plain": [
              "<Figure size 1500x1500 with 16 Axes>"
            ]
          },
          "metadata": {},
          "output_type": "display_data"
        }
      ],
      "source": [
        "# buscar outliers con boxplots\n",
        "df.plot(kind=\"box\",subplots=True,layout=(4,4),figsize=(15,15))"
      ]
    },
    {
      "attachments": {},
      "cell_type": "markdown",
      "metadata": {},
      "source": [
        "> a)  `Respuesta`: Con los histogramas y boxplot realizados anteriormente, se comenta el siguiente punteo:\n",
        "> - Sobre las distribuciones: \"fixed_acidity\", \"volatile_acidity\", \"citric_acid\", \"density\", \"pH\", \"sulphates\" y \"alcohol\" poseen distribuciones parecidas a una $\\chi^2$ con bajos grados de libertad, es decir, de izquierda a derecha crece rápidamente la distribución para luego decaer lentamente... otras parecen normales, en especifico, la variable objetivo.\n",
        "> - En general se observa que cada feature posee una distribución centrada al rededor de algún valor donde sólo \"total_sulfur_dioxide\" pareciera tener dos \"puntos de concentración\".\n",
        "> - Lo anterior se complementa con el bloxplot donde hay presencia de outlines para valores grandes respecto a cada distribución.\n",
        "> - Acerca de la variable objetivo, el tercer cuantil coincide con la mediana, observandose una fuerte concentación en el valor 6, además dicha carácteristica es claramente discreta."
      ]
    },
    {
      "cell_type": "code",
      "execution_count": 9,
      "metadata": {},
      "outputs": [
        {
          "name": "stdout",
          "output_type": "stream",
          "text": [
            "[6 5 7 8 4 3 9]\n"
          ]
        }
      ],
      "source": [
        "# Obtener los valores únicos de quality\n",
        "valores_unicos = df['quality'].unique()\n",
        "print(valores_unicos)"
      ]
    },
    {
      "cell_type": "code",
      "execution_count": 10,
      "metadata": {},
      "outputs": [
        {
          "name": "stdout",
          "output_type": "stream",
          "text": [
            "Porcentaje de quality == 6: 43.65%\n"
          ]
        }
      ],
      "source": [
        "aux = df[(df['quality'] == 6)].shape[0]/df.shape[0]\n",
        "print(f'Porcentaje de quality == 6: {round(aux*100,2)}%')"
      ]
    },
    {
      "attachments": {},
      "cell_type": "markdown",
      "metadata": {},
      "source": [
        "> b) `Respuesta`: Se considera que los valores de la variable objetivo están desbalanceados, basta notar que hay una clara representación de los valores iguales a 6 (43.6%) mientras que los otros 9 valores posibles, comparten el otro 56.35%.\n",
        "> \n",
        "> c) `Respuesta`: **CHATGPT**\n",
        "> 1. Sesgo en la predicción: Si los datos están desbalanceados, es decir, si hay una gran diferencia en la distribución de los valores de la variable objetivo, el modelo puede estar sesgado hacia los valores más frecuentes. Esto significa que el modelo puede tener dificultades para predecir con precisión los valores menos comunes o subrepresentados.\n",
        ">\n",
        "> 2. Precisión y error: En presencia de desbalance, los modelos tienden a tener un desempeño sesgado en favor de las clases mayoritarias. Esto puede llevar a una precisión general alta para la mayoría de los casos, pero una baja precisión para los casos menos frecuentes. Por lo tanto, la predicción puede ser precisa para los valores más comunes, pero menos precisa para los valores menos frecuentes.\n",
        ">\n",
        "> 3. Evaluación engañosa: Las métricas de evaluación pueden verse afectadas por el desbalance. Por ejemplo, si la mayoría de los casos pertenecen a una clase y solo unos pocos pertenecen a otra, una métrica de evaluación como la precisión puede ser engañosa. Un modelo que simplemente predice siempre la clase mayoritaria obtendría una alta precisión, pero no sería útil en términos de predicción real. Por lo tanto, es importante considerar métricas adicionales, como la sensibilidad, la especificidad o el área bajo la curva ROC (AUC-ROC), que proporcionan una imagen más completa del rendimiento del modelo en casos desbalanceados."
      ]
    },
    {
      "cell_type": "code",
      "execution_count": 11,
      "metadata": {
        "id": "fv8HeOpxCcBB"
      },
      "outputs": [
        {
          "data": {
            "text/plain": [
              "<Axes: >"
            ]
          },
          "execution_count": 11,
          "metadata": {},
          "output_type": "execute_result"
        },
        {
          "data": {
            "image/png": "[encoded data removed]",
            "text/plain": [
              "<Figure size 1400x600 with 2 Axes>"
            ]
          },
          "metadata": {},
          "output_type": "display_data"
        }
      ],
      "source": [
        "plt.figure(figsize=[14,6])\n",
        "sns.heatmap(df.loc[:, ~df.columns.isin(['type'])].corr(), annot = True, cmap = 'coolwarm')"
      ]
    },
    {
      "attachments": {},
      "cell_type": "markdown",
      "metadata": {},
      "source": [
        "Note que _'free sulfur dioxide'_ y _'total sulfur dioxide'_ poseen alta correlación, pero la correlación entre nuestro target y _'free sulfur dioxide'_ es mayor, por lo que para evitar problemas de colinealidad, eliminaremos la variable _'total sulfur dioxide'_. Mediante un análisis análogo, también eliminaremos la variable _'density'_."
      ]
    },
    {
      "cell_type": "code",
      "execution_count": 12,
      "metadata": {},
      "outputs": [],
      "source": [
        "df = df.drop(['total sulfur dioxide', 'density'], axis=1)"
      ]
    },
    {
      "cell_type": "code",
      "execution_count": 13,
      "metadata": {},
      "outputs": [
        {
          "data": {
            "text/html": [
              "<div>\n",
              "<style scoped>\n",
              "    .dataframe tbody tr th:only-of-type {\n",
              "        vertical-align: middle;\n",
              "    }\n",
              "\n",
              "    .dataframe tbody tr th {\n",
              "        vertical-align: top;\n",
              "    }\n",
              "\n",
              "    .dataframe thead th {\n",
              "        text-align: right;\n",
              "    }\n",
              "</style>\n",
              "<table border=\"1\" class=\"dataframe\">\n",
              "  <thead>\n",
              "    <tr style=\"text-align: right;\">\n",
              "      <th></th>\n",
              "      <th>type</th>\n",
              "      <th>fixed acidity</th>\n",
              "      <th>volatile acidity</th>\n",
              "      <th>citric acid</th>\n",
              "      <th>residual sugar</th>\n",
              "      <th>chlorides</th>\n",
              "      <th>free sulfur dioxide</th>\n",
              "      <th>pH</th>\n",
              "      <th>sulphates</th>\n",
              "      <th>alcohol</th>\n",
              "      <th>quality</th>\n",
              "    </tr>\n",
              "  </thead>\n",
              "  <tbody>\n",
              "    <tr>\n",
              "      <th>0</th>\n",
              "      <td>white</td>\n",
              "      <td>7.0</td>\n",
              "      <td>0.27</td>\n",
              "      <td>0.36</td>\n",
              "      <td>20.7</td>\n",
              "      <td>0.045</td>\n",
              "      <td>45.0</td>\n",
              "      <td>3.00</td>\n",
              "      <td>0.45</td>\n",
              "      <td>8.8</td>\n",
              "      <td>6</td>\n",
              "    </tr>\n",
              "    <tr>\n",
              "      <th>1</th>\n",
              "      <td>white</td>\n",
              "      <td>6.3</td>\n",
              "      <td>0.30</td>\n",
              "      <td>0.34</td>\n",
              "      <td>1.6</td>\n",
              "      <td>0.049</td>\n",
              "      <td>14.0</td>\n",
              "      <td>3.30</td>\n",
              "      <td>0.49</td>\n",
              "      <td>9.5</td>\n",
              "      <td>6</td>\n",
              "    </tr>\n",
              "    <tr>\n",
              "      <th>2</th>\n",
              "      <td>white</td>\n",
              "      <td>8.1</td>\n",
              "      <td>0.28</td>\n",
              "      <td>0.40</td>\n",
              "      <td>6.9</td>\n",
              "      <td>0.050</td>\n",
              "      <td>30.0</td>\n",
              "      <td>3.26</td>\n",
              "      <td>0.44</td>\n",
              "      <td>10.1</td>\n",
              "      <td>6</td>\n",
              "    </tr>\n",
              "    <tr>\n",
              "      <th>3</th>\n",
              "      <td>white</td>\n",
              "      <td>7.2</td>\n",
              "      <td>0.23</td>\n",
              "      <td>0.32</td>\n",
              "      <td>8.5</td>\n",
              "      <td>0.058</td>\n",
              "      <td>47.0</td>\n",
              "      <td>3.19</td>\n",
              "      <td>0.40</td>\n",
              "      <td>9.9</td>\n",
              "      <td>6</td>\n",
              "    </tr>\n",
              "    <tr>\n",
              "      <th>4</th>\n",
              "      <td>white</td>\n",
              "      <td>7.2</td>\n",
              "      <td>0.23</td>\n",
              "      <td>0.32</td>\n",
              "      <td>8.5</td>\n",
              "      <td>0.058</td>\n",
              "      <td>47.0</td>\n",
              "      <td>3.19</td>\n",
              "      <td>0.40</td>\n",
              "      <td>9.9</td>\n",
              "      <td>6</td>\n",
              "    </tr>\n",
              "  </tbody>\n",
              "</table>\n",
              "</div>"
            ],
            "text/plain": [
              "    type  fixed acidity  volatile acidity  citric acid  residual sugar  \\\n",
              "0  white            7.0              0.27         0.36            20.7   \n",
              "1  white            6.3              0.30         0.34             1.6   \n",
              "2  white            8.1              0.28         0.40             6.9   \n",
              "3  white            7.2              0.23         0.32             8.5   \n",
              "4  white            7.2              0.23         0.32             8.5   \n",
              "\n",
              "   chlorides  free sulfur dioxide    pH  sulphates  alcohol  quality  \n",
              "0      0.045                 45.0  3.00       0.45      8.8        6  \n",
              "1      0.049                 14.0  3.30       0.49      9.5        6  \n",
              "2      0.050                 30.0  3.26       0.44     10.1        6  \n",
              "3      0.058                 47.0  3.19       0.40      9.9        6  \n",
              "4      0.058                 47.0  3.19       0.40      9.9        6  "
            ]
          },
          "execution_count": 13,
          "metadata": {},
          "output_type": "execute_result"
        }
      ],
      "source": [
        "df.head()"
      ]
    },
    {
      "cell_type": "code",
      "execution_count": 14,
      "metadata": {
        "id": "mN37bRfnD0pw"
      },
      "outputs": [],
      "source": [
        "df = pd.get_dummies(df,drop_first=True)"
      ]
    },
    {
      "cell_type": "code",
      "execution_count": 15,
      "metadata": {
        "colab": {
          "base_uri": "https://localhost:8080/",
          "height": 655
        },
        "id": "PSX-0pnND3my",
        "outputId": "2f07babf-0dce-4fca-b815-8a85d0a27418"
      },
      "outputs": [
        {
          "data": {
            "text/html": [
              "<div>\n",
              "<style scoped>\n",
              "    .dataframe tbody tr th:only-of-type {\n",
              "        vertical-align: middle;\n",
              "    }\n",
              "\n",
              "    .dataframe tbody tr th {\n",
              "        vertical-align: top;\n",
              "    }\n",
              "\n",
              "    .dataframe thead th {\n",
              "        text-align: right;\n",
              "    }\n",
              "</style>\n",
              "<table border=\"1\" class=\"dataframe\">\n",
              "  <thead>\n",
              "    <tr style=\"text-align: right;\">\n",
              "      <th></th>\n",
              "      <th>fixed acidity</th>\n",
              "      <th>volatile acidity</th>\n",
              "      <th>citric acid</th>\n",
              "      <th>residual sugar</th>\n",
              "      <th>chlorides</th>\n",
              "      <th>free sulfur dioxide</th>\n",
              "      <th>pH</th>\n",
              "      <th>sulphates</th>\n",
              "      <th>alcohol</th>\n",
              "      <th>quality</th>\n",
              "      <th>type_white</th>\n",
              "    </tr>\n",
              "  </thead>\n",
              "  <tbody>\n",
              "    <tr>\n",
              "      <th>0</th>\n",
              "      <td>7.0</td>\n",
              "      <td>0.270</td>\n",
              "      <td>0.36</td>\n",
              "      <td>20.7</td>\n",
              "      <td>0.045</td>\n",
              "      <td>45.0</td>\n",
              "      <td>3.00</td>\n",
              "      <td>0.45</td>\n",
              "      <td>8.8</td>\n",
              "      <td>6</td>\n",
              "      <td>1</td>\n",
              "    </tr>\n",
              "    <tr>\n",
              "      <th>1</th>\n",
              "      <td>6.3</td>\n",
              "      <td>0.300</td>\n",
              "      <td>0.34</td>\n",
              "      <td>1.6</td>\n",
              "      <td>0.049</td>\n",
              "      <td>14.0</td>\n",
              "      <td>3.30</td>\n",
              "      <td>0.49</td>\n",
              "      <td>9.5</td>\n",
              "      <td>6</td>\n",
              "      <td>1</td>\n",
              "    </tr>\n",
              "    <tr>\n",
              "      <th>2</th>\n",
              "      <td>8.1</td>\n",
              "      <td>0.280</td>\n",
              "      <td>0.40</td>\n",
              "      <td>6.9</td>\n",
              "      <td>0.050</td>\n",
              "      <td>30.0</td>\n",
              "      <td>3.26</td>\n",
              "      <td>0.44</td>\n",
              "      <td>10.1</td>\n",
              "      <td>6</td>\n",
              "      <td>1</td>\n",
              "    </tr>\n",
              "    <tr>\n",
              "      <th>3</th>\n",
              "      <td>7.2</td>\n",
              "      <td>0.230</td>\n",
              "      <td>0.32</td>\n",
              "      <td>8.5</td>\n",
              "      <td>0.058</td>\n",
              "      <td>47.0</td>\n",
              "      <td>3.19</td>\n",
              "      <td>0.40</td>\n",
              "      <td>9.9</td>\n",
              "      <td>6</td>\n",
              "      <td>1</td>\n",
              "    </tr>\n",
              "    <tr>\n",
              "      <th>4</th>\n",
              "      <td>7.2</td>\n",
              "      <td>0.230</td>\n",
              "      <td>0.32</td>\n",
              "      <td>8.5</td>\n",
              "      <td>0.058</td>\n",
              "      <td>47.0</td>\n",
              "      <td>3.19</td>\n",
              "      <td>0.40</td>\n",
              "      <td>9.9</td>\n",
              "      <td>6</td>\n",
              "      <td>1</td>\n",
              "    </tr>\n",
              "    <tr>\n",
              "      <th>...</th>\n",
              "      <td>...</td>\n",
              "      <td>...</td>\n",
              "      <td>...</td>\n",
              "      <td>...</td>\n",
              "      <td>...</td>\n",
              "      <td>...</td>\n",
              "      <td>...</td>\n",
              "      <td>...</td>\n",
              "      <td>...</td>\n",
              "      <td>...</td>\n",
              "      <td>...</td>\n",
              "    </tr>\n",
              "    <tr>\n",
              "      <th>6492</th>\n",
              "      <td>6.2</td>\n",
              "      <td>0.600</td>\n",
              "      <td>0.08</td>\n",
              "      <td>2.0</td>\n",
              "      <td>0.090</td>\n",
              "      <td>32.0</td>\n",
              "      <td>3.45</td>\n",
              "      <td>0.58</td>\n",
              "      <td>10.5</td>\n",
              "      <td>5</td>\n",
              "      <td>0</td>\n",
              "    </tr>\n",
              "    <tr>\n",
              "      <th>6493</th>\n",
              "      <td>5.9</td>\n",
              "      <td>0.550</td>\n",
              "      <td>0.10</td>\n",
              "      <td>2.2</td>\n",
              "      <td>0.062</td>\n",
              "      <td>39.0</td>\n",
              "      <td>3.52</td>\n",
              "      <td>NaN</td>\n",
              "      <td>11.2</td>\n",
              "      <td>6</td>\n",
              "      <td>0</td>\n",
              "    </tr>\n",
              "    <tr>\n",
              "      <th>6494</th>\n",
              "      <td>6.3</td>\n",
              "      <td>0.510</td>\n",
              "      <td>0.13</td>\n",
              "      <td>2.3</td>\n",
              "      <td>0.076</td>\n",
              "      <td>29.0</td>\n",
              "      <td>3.42</td>\n",
              "      <td>0.75</td>\n",
              "      <td>11.0</td>\n",
              "      <td>6</td>\n",
              "      <td>0</td>\n",
              "    </tr>\n",
              "    <tr>\n",
              "      <th>6495</th>\n",
              "      <td>5.9</td>\n",
              "      <td>0.645</td>\n",
              "      <td>0.12</td>\n",
              "      <td>2.0</td>\n",
              "      <td>0.075</td>\n",
              "      <td>32.0</td>\n",
              "      <td>3.57</td>\n",
              "      <td>0.71</td>\n",
              "      <td>10.2</td>\n",
              "      <td>5</td>\n",
              "      <td>0</td>\n",
              "    </tr>\n",
              "    <tr>\n",
              "      <th>6496</th>\n",
              "      <td>6.0</td>\n",
              "      <td>0.310</td>\n",
              "      <td>0.47</td>\n",
              "      <td>3.6</td>\n",
              "      <td>0.067</td>\n",
              "      <td>18.0</td>\n",
              "      <td>3.39</td>\n",
              "      <td>0.66</td>\n",
              "      <td>11.0</td>\n",
              "      <td>6</td>\n",
              "      <td>0</td>\n",
              "    </tr>\n",
              "  </tbody>\n",
              "</table>\n",
              "<p>6497 rows × 11 columns</p>\n",
              "</div>"
            ],
            "text/plain": [
              "      fixed acidity  volatile acidity  citric acid  residual sugar  chlorides  \\\n",
              "0               7.0             0.270         0.36            20.7      0.045   \n",
              "1               6.3             0.300         0.34             1.6      0.049   \n",
              "2               8.1             0.280         0.40             6.9      0.050   \n",
              "3               7.2             0.230         0.32             8.5      0.058   \n",
              "4               7.2             0.230         0.32             8.5      0.058   \n",
              "...             ...               ...          ...             ...        ...   \n",
              "6492            6.2             0.600         0.08             2.0      0.090   \n",
              "6493            5.9             0.550         0.10             2.2      0.062   \n",
              "6494            6.3             0.510         0.13             2.3      0.076   \n",
              "6495            5.9             0.645         0.12             2.0      0.075   \n",
              "6496            6.0             0.310         0.47             3.6      0.067   \n",
              "\n",
              "      free sulfur dioxide    pH  sulphates  alcohol  quality  type_white  \n",
              "0                    45.0  3.00       0.45      8.8        6           1  \n",
              "1                    14.0  3.30       0.49      9.5        6           1  \n",
              "2                    30.0  3.26       0.44     10.1        6           1  \n",
              "3                    47.0  3.19       0.40      9.9        6           1  \n",
              "4                    47.0  3.19       0.40      9.9        6           1  \n",
              "...                   ...   ...        ...      ...      ...         ...  \n",
              "6492                 32.0  3.45       0.58     10.5        5           0  \n",
              "6493                 39.0  3.52        NaN     11.2        6           0  \n",
              "6494                 29.0  3.42       0.75     11.0        6           0  \n",
              "6495                 32.0  3.57       0.71     10.2        5           0  \n",
              "6496                 18.0  3.39       0.66     11.0        6           0  \n",
              "\n",
              "[6497 rows x 11 columns]"
            ]
          },
          "execution_count": 15,
          "metadata": {},
          "output_type": "execute_result"
        }
      ],
      "source": [
        "# Convertir los valores booleanos en enteros\n",
        "df['type_white'] = df['type_white'].astype(int)\n",
        "df"
      ]
    },
    {
      "attachments": {},
      "cell_type": "markdown",
      "metadata": {
        "id": "p36NT9S-WiZ5"
      },
      "source": [
        "### 1.1.3 Separación de conjuntos\n",
        "\n",
        "> a) Separe el conjunto entre variables características y variable objetivo.\n",
        "\n",
        "> b) Separe el conjunto de datos en un conjunto de entrenamiento y conjunto de prueba, utilizando una proporción 80%-20% respectivamente.\n",
        "\n",
        "> c) Una vez separado los conjuntos, obtenga la media de cada variable con datos faltantes en el conjunto de **entrenamiento** y reemplace los valores faltantes (NaN) de ambos conjuntos (entrenamiento y prueba) con dicha media."
      ]
    },
    {
      "cell_type": "code",
      "execution_count": 16,
      "metadata": {
        "id": "Lb8xFji5FspA"
      },
      "outputs": [],
      "source": [
        "# a)\n",
        "X = df.drop(['quality'], axis =1)\n",
        "y = df['quality']"
      ]
    },
    {
      "cell_type": "code",
      "execution_count": 17,
      "metadata": {
        "id": "5pHq_CzJFTSy"
      },
      "outputs": [
        {
          "name": "stdout",
          "output_type": "stream",
          "text": [
            "Total Rows and Columns in X_train is : (5197, 10)\n",
            "Total Rows and Columns in y_train is : (5197,)\n",
            "Total Rows and Columns in X_test is : (1300, 10)\n",
            "Total Rows and Columns in y_test is : (1300,)\n"
          ]
        }
      ],
      "source": [
        "# b)\n",
        "X_train, X_test, y_train, y_test = train_test_split(X, y, test_size=0.2, shuffle=True, stratify=y, random_state=42)\n",
        "\n",
        "# Shape of the data.\n",
        "print(\"Total Rows and Columns in X_train is :\", X_train.shape) \n",
        "print(\"Total Rows and Columns in y_train is :\", y_train.shape) \n",
        "print(\"Total Rows and Columns in X_test is :\", X_test.shape) \n",
        "print(\"Total Rows and Columns in y_test is :\", y_test.shape) "
      ]
    },
    {
      "cell_type": "code",
      "execution_count": 18,
      "metadata": {
        "id": "PyNHkiX9n6m0"
      },
      "outputs": [
        {
          "name": "stdout",
          "output_type": "stream",
          "text": [
            "fixed acidity: 7.2148718936621075\n",
            "volatile acidity: 0.33864862261606626\n",
            "citric acid: 0.3187389295340778\n",
            "residual sugar: 5.47135707410972\n",
            "chlorides: 0.05605908391070054\n",
            "pH: 3.2172730776642897\n",
            "sulphates: 0.5294821944177093\n"
          ]
        }
      ],
      "source": [
        "# c)\n",
        "# Pick every feature with NaN_Values\n",
        "for feature in info[info[\"NaN_Values\"]>0].T:\n",
        "\n",
        "    media = X_train[feature].mean(skipna = True)\n",
        "    X_train[feature] = X_train[feature].fillna(media)\n",
        "    X_test[feature] = X_test[feature].fillna(media)\n",
        "    \n",
        "    print(f'{feature}: {media}')"
      ]
    },
    {
      "cell_type": "code",
      "execution_count": 19,
      "metadata": {},
      "outputs": [
        {
          "data": {
            "text/html": [
              "<div>\n",
              "<style scoped>\n",
              "    .dataframe tbody tr th:only-of-type {\n",
              "        vertical-align: middle;\n",
              "    }\n",
              "\n",
              "    .dataframe tbody tr th {\n",
              "        vertical-align: top;\n",
              "    }\n",
              "\n",
              "    .dataframe thead th {\n",
              "        text-align: right;\n",
              "    }\n",
              "</style>\n",
              "<table border=\"1\" class=\"dataframe\">\n",
              "  <thead>\n",
              "    <tr style=\"text-align: right;\">\n",
              "      <th></th>\n",
              "      <th>DataType</th>\n",
              "      <th>Non-null_Values</th>\n",
              "      <th>Unique_Values</th>\n",
              "      <th>NaN_Values</th>\n",
              "      <th>NaN_Values_Percentage</th>\n",
              "    </tr>\n",
              "  </thead>\n",
              "  <tbody>\n",
              "    <tr>\n",
              "      <th>fixed acidity</th>\n",
              "      <td>float64</td>\n",
              "      <td>6497</td>\n",
              "      <td>107</td>\n",
              "      <td>0</td>\n",
              "      <td>0.0</td>\n",
              "    </tr>\n",
              "    <tr>\n",
              "      <th>volatile acidity</th>\n",
              "      <td>float64</td>\n",
              "      <td>6497</td>\n",
              "      <td>188</td>\n",
              "      <td>0</td>\n",
              "      <td>0.0</td>\n",
              "    </tr>\n",
              "    <tr>\n",
              "      <th>citric acid</th>\n",
              "      <td>float64</td>\n",
              "      <td>6497</td>\n",
              "      <td>90</td>\n",
              "      <td>0</td>\n",
              "      <td>0.0</td>\n",
              "    </tr>\n",
              "    <tr>\n",
              "      <th>residual sugar</th>\n",
              "      <td>float64</td>\n",
              "      <td>6497</td>\n",
              "      <td>317</td>\n",
              "      <td>0</td>\n",
              "      <td>0.0</td>\n",
              "    </tr>\n",
              "    <tr>\n",
              "      <th>chlorides</th>\n",
              "      <td>float64</td>\n",
              "      <td>6497</td>\n",
              "      <td>215</td>\n",
              "      <td>0</td>\n",
              "      <td>0.0</td>\n",
              "    </tr>\n",
              "    <tr>\n",
              "      <th>free sulfur dioxide</th>\n",
              "      <td>float64</td>\n",
              "      <td>6497</td>\n",
              "      <td>135</td>\n",
              "      <td>0</td>\n",
              "      <td>0.0</td>\n",
              "    </tr>\n",
              "    <tr>\n",
              "      <th>pH</th>\n",
              "      <td>float64</td>\n",
              "      <td>6497</td>\n",
              "      <td>109</td>\n",
              "      <td>0</td>\n",
              "      <td>0.0</td>\n",
              "    </tr>\n",
              "    <tr>\n",
              "      <th>sulphates</th>\n",
              "      <td>float64</td>\n",
              "      <td>6497</td>\n",
              "      <td>112</td>\n",
              "      <td>0</td>\n",
              "      <td>0.0</td>\n",
              "    </tr>\n",
              "    <tr>\n",
              "      <th>alcohol</th>\n",
              "      <td>float64</td>\n",
              "      <td>6497</td>\n",
              "      <td>111</td>\n",
              "      <td>0</td>\n",
              "      <td>0.0</td>\n",
              "    </tr>\n",
              "    <tr>\n",
              "      <th>type_white</th>\n",
              "      <td>int32</td>\n",
              "      <td>6497</td>\n",
              "      <td>2</td>\n",
              "      <td>0</td>\n",
              "      <td>0.0</td>\n",
              "    </tr>\n",
              "  </tbody>\n",
              "</table>\n",
              "</div>"
            ],
            "text/plain": [
              "                    DataType  Non-null_Values  Unique_Values  NaN_Values  \\\n",
              "fixed acidity        float64             6497            107           0   \n",
              "volatile acidity     float64             6497            188           0   \n",
              "citric acid          float64             6497             90           0   \n",
              "residual sugar       float64             6497            317           0   \n",
              "chlorides            float64             6497            215           0   \n",
              "free sulfur dioxide  float64             6497            135           0   \n",
              "pH                   float64             6497            109           0   \n",
              "sulphates            float64             6497            112           0   \n",
              "alcohol              float64             6497            111           0   \n",
              "type_white             int32             6497              2           0   \n",
              "\n",
              "                     NaN_Values_Percentage  \n",
              "fixed acidity                          0.0  \n",
              "volatile acidity                       0.0  \n",
              "citric acid                            0.0  \n",
              "residual sugar                         0.0  \n",
              "chlorides                              0.0  \n",
              "free sulfur dioxide                    0.0  \n",
              "pH                                     0.0  \n",
              "sulphates                              0.0  \n",
              "alcohol                                0.0  \n",
              "type_white                             0.0  "
            ]
          },
          "execution_count": 19,
          "metadata": {},
          "output_type": "execute_result"
        }
      ],
      "source": [
        "info_train = datainfo(pd.concat([X_train, X_test]))\n",
        "# Ahora\n",
        "info_train"
      ]
    },
    {
      "cell_type": "code",
      "execution_count": 20,
      "metadata": {},
      "outputs": [
        {
          "data": {
            "text/html": [
              "<div>\n",
              "<style scoped>\n",
              "    .dataframe tbody tr th:only-of-type {\n",
              "        vertical-align: middle;\n",
              "    }\n",
              "\n",
              "    .dataframe tbody tr th {\n",
              "        vertical-align: top;\n",
              "    }\n",
              "\n",
              "    .dataframe thead th {\n",
              "        text-align: right;\n",
              "    }\n",
              "</style>\n",
              "<table border=\"1\" class=\"dataframe\">\n",
              "  <thead>\n",
              "    <tr style=\"text-align: right;\">\n",
              "      <th></th>\n",
              "      <th>DataType</th>\n",
              "      <th>Non-null_Values</th>\n",
              "      <th>Unique_Values</th>\n",
              "      <th>NaN_Values</th>\n",
              "      <th>NaN_Values_Percentage</th>\n",
              "    </tr>\n",
              "  </thead>\n",
              "  <tbody>\n",
              "    <tr>\n",
              "      <th>type</th>\n",
              "      <td>object</td>\n",
              "      <td>6497</td>\n",
              "      <td>2</td>\n",
              "      <td>0</td>\n",
              "      <td>0.000000</td>\n",
              "    </tr>\n",
              "    <tr>\n",
              "      <th>fixed acidity</th>\n",
              "      <td>float64</td>\n",
              "      <td>6487</td>\n",
              "      <td>106</td>\n",
              "      <td>10</td>\n",
              "      <td>0.153917</td>\n",
              "    </tr>\n",
              "    <tr>\n",
              "      <th>volatile acidity</th>\n",
              "      <td>float64</td>\n",
              "      <td>6489</td>\n",
              "      <td>187</td>\n",
              "      <td>8</td>\n",
              "      <td>0.123134</td>\n",
              "    </tr>\n",
              "    <tr>\n",
              "      <th>citric acid</th>\n",
              "      <td>float64</td>\n",
              "      <td>6494</td>\n",
              "      <td>89</td>\n",
              "      <td>3</td>\n",
              "      <td>0.046175</td>\n",
              "    </tr>\n",
              "    <tr>\n",
              "      <th>residual sugar</th>\n",
              "      <td>float64</td>\n",
              "      <td>6495</td>\n",
              "      <td>316</td>\n",
              "      <td>2</td>\n",
              "      <td>0.030783</td>\n",
              "    </tr>\n",
              "    <tr>\n",
              "      <th>chlorides</th>\n",
              "      <td>float64</td>\n",
              "      <td>6495</td>\n",
              "      <td>214</td>\n",
              "      <td>2</td>\n",
              "      <td>0.030783</td>\n",
              "    </tr>\n",
              "    <tr>\n",
              "      <th>free sulfur dioxide</th>\n",
              "      <td>float64</td>\n",
              "      <td>6497</td>\n",
              "      <td>135</td>\n",
              "      <td>0</td>\n",
              "      <td>0.000000</td>\n",
              "    </tr>\n",
              "    <tr>\n",
              "      <th>total sulfur dioxide</th>\n",
              "      <td>float64</td>\n",
              "      <td>6497</td>\n",
              "      <td>276</td>\n",
              "      <td>0</td>\n",
              "      <td>0.000000</td>\n",
              "    </tr>\n",
              "    <tr>\n",
              "      <th>density</th>\n",
              "      <td>float64</td>\n",
              "      <td>6497</td>\n",
              "      <td>998</td>\n",
              "      <td>0</td>\n",
              "      <td>0.000000</td>\n",
              "    </tr>\n",
              "    <tr>\n",
              "      <th>pH</th>\n",
              "      <td>float64</td>\n",
              "      <td>6488</td>\n",
              "      <td>108</td>\n",
              "      <td>9</td>\n",
              "      <td>0.138525</td>\n",
              "    </tr>\n",
              "    <tr>\n",
              "      <th>sulphates</th>\n",
              "      <td>float64</td>\n",
              "      <td>6493</td>\n",
              "      <td>111</td>\n",
              "      <td>4</td>\n",
              "      <td>0.061567</td>\n",
              "    </tr>\n",
              "    <tr>\n",
              "      <th>alcohol</th>\n",
              "      <td>float64</td>\n",
              "      <td>6497</td>\n",
              "      <td>111</td>\n",
              "      <td>0</td>\n",
              "      <td>0.000000</td>\n",
              "    </tr>\n",
              "    <tr>\n",
              "      <th>quality</th>\n",
              "      <td>int64</td>\n",
              "      <td>6497</td>\n",
              "      <td>7</td>\n",
              "      <td>0</td>\n",
              "      <td>0.000000</td>\n",
              "    </tr>\n",
              "  </tbody>\n",
              "</table>\n",
              "</div>"
            ],
            "text/plain": [
              "                     DataType  Non-null_Values  Unique_Values  NaN_Values  \\\n",
              "type                   object             6497              2           0   \n",
              "fixed acidity         float64             6487            106          10   \n",
              "volatile acidity      float64             6489            187           8   \n",
              "citric acid           float64             6494             89           3   \n",
              "residual sugar        float64             6495            316           2   \n",
              "chlorides             float64             6495            214           2   \n",
              "free sulfur dioxide   float64             6497            135           0   \n",
              "total sulfur dioxide  float64             6497            276           0   \n",
              "density               float64             6497            998           0   \n",
              "pH                    float64             6488            108           9   \n",
              "sulphates             float64             6493            111           4   \n",
              "alcohol               float64             6497            111           0   \n",
              "quality                 int64             6497              7           0   \n",
              "\n",
              "                      NaN_Values_Percentage  \n",
              "type                               0.000000  \n",
              "fixed acidity                      0.153917  \n",
              "volatile acidity                   0.123134  \n",
              "citric acid                        0.046175  \n",
              "residual sugar                     0.030783  \n",
              "chlorides                          0.030783  \n",
              "free sulfur dioxide                0.000000  \n",
              "total sulfur dioxide               0.000000  \n",
              "density                            0.000000  \n",
              "pH                                 0.138525  \n",
              "sulphates                          0.061567  \n",
              "alcohol                            0.000000  \n",
              "quality                            0.000000  "
            ]
          },
          "execution_count": 20,
          "metadata": {},
          "output_type": "execute_result"
        }
      ],
      "source": [
        "# Antes\n",
        "info"
      ]
    },
    {
      "attachments": {},
      "cell_type": "markdown",
      "metadata": {
        "id": "-lWZJgV7oYSg"
      },
      "source": [
        "> d) Estandarice las variables categóricas numéricas no binarias, es decir, todas excepto el tipo de vino y la variable objetivo."
      ]
    },
    {
      "cell_type": "code",
      "execution_count": 21,
      "metadata": {},
      "outputs": [
        {
          "data": {
            "text/html": [
              "<div>\n",
              "<style scoped>\n",
              "    .dataframe tbody tr th:only-of-type {\n",
              "        vertical-align: middle;\n",
              "    }\n",
              "\n",
              "    .dataframe tbody tr th {\n",
              "        vertical-align: top;\n",
              "    }\n",
              "\n",
              "    .dataframe thead th {\n",
              "        text-align: right;\n",
              "    }\n",
              "</style>\n",
              "<table border=\"1\" class=\"dataframe\">\n",
              "  <thead>\n",
              "    <tr style=\"text-align: right;\">\n",
              "      <th></th>\n",
              "      <th>fixed acidity</th>\n",
              "      <th>volatile acidity</th>\n",
              "      <th>citric acid</th>\n",
              "      <th>residual sugar</th>\n",
              "      <th>chlorides</th>\n",
              "      <th>free sulfur dioxide</th>\n",
              "      <th>pH</th>\n",
              "      <th>sulphates</th>\n",
              "      <th>alcohol</th>\n",
              "      <th>type_white</th>\n",
              "    </tr>\n",
              "  </thead>\n",
              "  <tbody>\n",
              "    <tr>\n",
              "      <th>5413</th>\n",
              "      <td>8.5</td>\n",
              "      <td>0.655</td>\n",
              "      <td>0.49</td>\n",
              "      <td>6.10</td>\n",
              "      <td>0.122</td>\n",
              "      <td>34.0</td>\n",
              "      <td>3.31</td>\n",
              "      <td>1.14</td>\n",
              "      <td>9.3</td>\n",
              "      <td>0</td>\n",
              "    </tr>\n",
              "    <tr>\n",
              "      <th>3448</th>\n",
              "      <td>6.7</td>\n",
              "      <td>0.470</td>\n",
              "      <td>0.29</td>\n",
              "      <td>4.75</td>\n",
              "      <td>0.034</td>\n",
              "      <td>29.0</td>\n",
              "      <td>3.29</td>\n",
              "      <td>0.46</td>\n",
              "      <td>13.0</td>\n",
              "      <td>1</td>\n",
              "    </tr>\n",
              "    <tr>\n",
              "      <th>2964</th>\n",
              "      <td>5.8</td>\n",
              "      <td>0.190</td>\n",
              "      <td>0.24</td>\n",
              "      <td>1.30</td>\n",
              "      <td>0.044</td>\n",
              "      <td>38.0</td>\n",
              "      <td>3.77</td>\n",
              "      <td>0.60</td>\n",
              "      <td>10.6</td>\n",
              "      <td>1</td>\n",
              "    </tr>\n",
              "    <tr>\n",
              "      <th>3009</th>\n",
              "      <td>6.5</td>\n",
              "      <td>0.200</td>\n",
              "      <td>0.50</td>\n",
              "      <td>18.10</td>\n",
              "      <td>0.054</td>\n",
              "      <td>50.0</td>\n",
              "      <td>2.94</td>\n",
              "      <td>0.64</td>\n",
              "      <td>8.8</td>\n",
              "      <td>1</td>\n",
              "    </tr>\n",
              "    <tr>\n",
              "      <th>5950</th>\n",
              "      <td>5.6</td>\n",
              "      <td>0.605</td>\n",
              "      <td>0.05</td>\n",
              "      <td>2.40</td>\n",
              "      <td>0.073</td>\n",
              "      <td>19.0</td>\n",
              "      <td>3.56</td>\n",
              "      <td>0.55</td>\n",
              "      <td>12.9</td>\n",
              "      <td>0</td>\n",
              "    </tr>\n",
              "  </tbody>\n",
              "</table>\n",
              "</div>"
            ],
            "text/plain": [
              "      fixed acidity  volatile acidity  citric acid  residual sugar  chlorides  \\\n",
              "5413            8.5             0.655         0.49            6.10      0.122   \n",
              "3448            6.7             0.470         0.29            4.75      0.034   \n",
              "2964            5.8             0.190         0.24            1.30      0.044   \n",
              "3009            6.5             0.200         0.50           18.10      0.054   \n",
              "5950            5.6             0.605         0.05            2.40      0.073   \n",
              "\n",
              "      free sulfur dioxide    pH  sulphates  alcohol  type_white  \n",
              "5413                 34.0  3.31       1.14      9.3           0  \n",
              "3448                 29.0  3.29       0.46     13.0           1  \n",
              "2964                 38.0  3.77       0.60     10.6           1  \n",
              "3009                 50.0  2.94       0.64      8.8           1  \n",
              "5950                 19.0  3.56       0.55     12.9           0  "
            ]
          },
          "execution_count": 21,
          "metadata": {},
          "output_type": "execute_result"
        }
      ],
      "source": [
        "X_train.head()"
      ]
    },
    {
      "cell_type": "code",
      "execution_count": 22,
      "metadata": {
        "id": "f0oIEq98H7cL"
      },
      "outputs": [],
      "source": [
        "# d)\n",
        "X_scaler = preprocessing.StandardScaler()\n",
        "\n",
        "variables = list(info_train[info_train['DataType'] == 'float64'].index)\n",
        "\n",
        "cols_to_normalize = variables\n",
        "\n",
        "X_train[cols_to_normalize] = X_scaler.fit_transform(X_train[cols_to_normalize])\n",
        "X_test[cols_to_normalize] = X_scaler.transform(X_test[cols_to_normalize])"
      ]
    },
    {
      "cell_type": "code",
      "execution_count": 23,
      "metadata": {},
      "outputs": [
        {
          "data": {
            "text/html": [
              "<div>\n",
              "<style scoped>\n",
              "    .dataframe tbody tr th:only-of-type {\n",
              "        vertical-align: middle;\n",
              "    }\n",
              "\n",
              "    .dataframe tbody tr th {\n",
              "        vertical-align: top;\n",
              "    }\n",
              "\n",
              "    .dataframe thead th {\n",
              "        text-align: right;\n",
              "    }\n",
              "</style>\n",
              "<table border=\"1\" class=\"dataframe\">\n",
              "  <thead>\n",
              "    <tr style=\"text-align: right;\">\n",
              "      <th></th>\n",
              "      <th>fixed acidity</th>\n",
              "      <th>volatile acidity</th>\n",
              "      <th>citric acid</th>\n",
              "      <th>residual sugar</th>\n",
              "      <th>chlorides</th>\n",
              "      <th>free sulfur dioxide</th>\n",
              "      <th>pH</th>\n",
              "      <th>sulphates</th>\n",
              "      <th>alcohol</th>\n",
              "      <th>type_white</th>\n",
              "    </tr>\n",
              "  </thead>\n",
              "  <tbody>\n",
              "    <tr>\n",
              "      <th>5413</th>\n",
              "      <td>0.998332</td>\n",
              "      <td>1.927292</td>\n",
              "      <td>1.171249</td>\n",
              "      <td>0.133342</td>\n",
              "      <td>1.843612</td>\n",
              "      <td>0.185945</td>\n",
              "      <td>0.581335</td>\n",
              "      <td>4.107134</td>\n",
              "      <td>-0.999457</td>\n",
              "      <td>0</td>\n",
              "    </tr>\n",
              "    <tr>\n",
              "      <th>3448</th>\n",
              "      <td>-0.399970</td>\n",
              "      <td>0.800226</td>\n",
              "      <td>-0.196545</td>\n",
              "      <td>-0.153008</td>\n",
              "      <td>-0.616740</td>\n",
              "      <td>-0.098637</td>\n",
              "      <td>0.455949</td>\n",
              "      <td>-0.467427</td>\n",
              "      <td>2.097928</td>\n",
              "      <td>1</td>\n",
              "    </tr>\n",
              "    <tr>\n",
              "      <th>2964</th>\n",
              "      <td>-1.099122</td>\n",
              "      <td>-0.905605</td>\n",
              "      <td>-0.538493</td>\n",
              "      <td>-0.884793</td>\n",
              "      <td>-0.337154</td>\n",
              "      <td>0.413610</td>\n",
              "      <td>3.465224</td>\n",
              "      <td>0.474394</td>\n",
              "      <td>0.088813</td>\n",
              "      <td>1</td>\n",
              "    </tr>\n",
              "    <tr>\n",
              "      <th>3009</th>\n",
              "      <td>-0.555337</td>\n",
              "      <td>-0.844682</td>\n",
              "      <td>1.239639</td>\n",
              "      <td>2.678680</td>\n",
              "      <td>-0.057569</td>\n",
              "      <td>1.096607</td>\n",
              "      <td>-1.738315</td>\n",
              "      <td>0.743486</td>\n",
              "      <td>-1.418023</td>\n",
              "      <td>1</td>\n",
              "    </tr>\n",
              "    <tr>\n",
              "      <th>5950</th>\n",
              "      <td>-1.254488</td>\n",
              "      <td>1.622680</td>\n",
              "      <td>-1.837898</td>\n",
              "      <td>-0.651470</td>\n",
              "      <td>0.473643</td>\n",
              "      <td>-0.667801</td>\n",
              "      <td>2.148666</td>\n",
              "      <td>0.138029</td>\n",
              "      <td>2.014215</td>\n",
              "      <td>0</td>\n",
              "    </tr>\n",
              "  </tbody>\n",
              "</table>\n",
              "</div>"
            ],
            "text/plain": [
              "      fixed acidity  volatile acidity  citric acid  residual sugar  chlorides  \\\n",
              "5413       0.998332          1.927292     1.171249        0.133342   1.843612   \n",
              "3448      -0.399970          0.800226    -0.196545       -0.153008  -0.616740   \n",
              "2964      -1.099122         -0.905605    -0.538493       -0.884793  -0.337154   \n",
              "3009      -0.555337         -0.844682     1.239639        2.678680  -0.057569   \n",
              "5950      -1.254488          1.622680    -1.837898       -0.651470   0.473643   \n",
              "\n",
              "      free sulfur dioxide        pH  sulphates   alcohol  type_white  \n",
              "5413             0.185945  0.581335   4.107134 -0.999457           0  \n",
              "3448            -0.098637  0.455949  -0.467427  2.097928           1  \n",
              "2964             0.413610  3.465224   0.474394  0.088813           1  \n",
              "3009             1.096607 -1.738315   0.743486 -1.418023           1  \n",
              "5950            -0.667801  2.148666   0.138029  2.014215           0  "
            ]
          },
          "execution_count": 23,
          "metadata": {},
          "output_type": "execute_result"
        }
      ],
      "source": [
        "X_train.head()"
      ]
    },
    {
      "attachments": {},
      "cell_type": "markdown",
      "metadata": {
        "id": "BDqQNoG7rhQ7"
      },
      "source": [
        "e) Grafique la relevancia de cada variable con respecto a la variable objetivo utilizando la información mutua entre ambas, en otras palabras: MutualInformation($x_i,y$) siendo $x_i$ la $i$-ésima variable."
      ]
    },
    {
      "cell_type": "code",
      "execution_count": 24,
      "metadata": {
        "id": "_XJ70-UQsuhK"
      },
      "outputs": [
        {
          "name": "stdout",
          "output_type": "stream",
          "text": [
            "[0.02914722 0.07716327 0.03664065 0.06203365 0.05671476 0.04094761\n",
            " 0.00630762 0.02025225 0.15271092 0.02241611]\n"
          ]
        },
        {
          "data": {
            "text/html": [
              "<div>\n",
              "<style scoped>\n",
              "    .dataframe tbody tr th:only-of-type {\n",
              "        vertical-align: middle;\n",
              "    }\n",
              "\n",
              "    .dataframe tbody tr th {\n",
              "        vertical-align: top;\n",
              "    }\n",
              "\n",
              "    .dataframe thead th {\n",
              "        text-align: right;\n",
              "    }\n",
              "</style>\n",
              "<table border=\"1\" class=\"dataframe\">\n",
              "  <thead>\n",
              "    <tr style=\"text-align: right;\">\n",
              "      <th></th>\n",
              "      <th>feature</th>\n",
              "      <th>score</th>\n",
              "    </tr>\n",
              "  </thead>\n",
              "  <tbody>\n",
              "    <tr>\n",
              "      <th>8</th>\n",
              "      <td>alcohol</td>\n",
              "      <td>0.152711</td>\n",
              "    </tr>\n",
              "    <tr>\n",
              "      <th>1</th>\n",
              "      <td>volatile acidity</td>\n",
              "      <td>0.077163</td>\n",
              "    </tr>\n",
              "    <tr>\n",
              "      <th>3</th>\n",
              "      <td>residual sugar</td>\n",
              "      <td>0.062034</td>\n",
              "    </tr>\n",
              "    <tr>\n",
              "      <th>4</th>\n",
              "      <td>chlorides</td>\n",
              "      <td>0.056715</td>\n",
              "    </tr>\n",
              "    <tr>\n",
              "      <th>5</th>\n",
              "      <td>free sulfur dioxide</td>\n",
              "      <td>0.040948</td>\n",
              "    </tr>\n",
              "    <tr>\n",
              "      <th>2</th>\n",
              "      <td>citric acid</td>\n",
              "      <td>0.036641</td>\n",
              "    </tr>\n",
              "    <tr>\n",
              "      <th>0</th>\n",
              "      <td>fixed acidity</td>\n",
              "      <td>0.029147</td>\n",
              "    </tr>\n",
              "    <tr>\n",
              "      <th>9</th>\n",
              "      <td>type_white</td>\n",
              "      <td>0.022416</td>\n",
              "    </tr>\n",
              "    <tr>\n",
              "      <th>7</th>\n",
              "      <td>sulphates</td>\n",
              "      <td>0.020252</td>\n",
              "    </tr>\n",
              "    <tr>\n",
              "      <th>6</th>\n",
              "      <td>pH</td>\n",
              "      <td>0.006308</td>\n",
              "    </tr>\n",
              "  </tbody>\n",
              "</table>\n",
              "</div>"
            ],
            "text/plain": [
              "               feature     score\n",
              "8              alcohol  0.152711\n",
              "1     volatile acidity  0.077163\n",
              "3       residual sugar  0.062034\n",
              "4            chlorides  0.056715\n",
              "5  free sulfur dioxide  0.040948\n",
              "2          citric acid  0.036641\n",
              "0        fixed acidity  0.029147\n",
              "9           type_white  0.022416\n",
              "7            sulphates  0.020252\n",
              "6                   pH  0.006308"
            ]
          },
          "execution_count": 24,
          "metadata": {},
          "output_type": "execute_result"
        }
      ],
      "source": [
        "# Calcular la puntuación de importancia mutua\n",
        "\n",
        "np.random.seed(42)  # Establecer una semilla aleatoria, si esto no se utiliza, el valor de mi varía de acuerdo al muestreo que tome la función para calcularla.\n",
        "\n",
        "mi = mutual_info_classif(X_train, y_train)\n",
        "print(mi)\n",
        "\n",
        "# Imprimir las puntuaciones de importancia mutua para cada característica\n",
        "df_mi = pd.DataFrame({'feature': X_train.columns, 'score': mi}).sort_values(by='score', ascending=False)\n",
        "df_mi"
      ]
    },
    {
      "cell_type": "code",
      "execution_count": 25,
      "metadata": {},
      "outputs": [
        {
          "data": {
            "text/plain": [
              "([0, 1, 2, 3, 4, 5, 6, 7, 8, 9],\n",
              " [Text(0, 0, 'fixed acidity'),\n",
              "  Text(1, 0, 'volatile acidity'),\n",
              "  Text(2, 0, 'citric acid'),\n",
              "  Text(3, 0, 'residual sugar'),\n",
              "  Text(4, 0, 'chlorides'),\n",
              "  Text(5, 0, 'free sulfur dioxide'),\n",
              "  Text(6, 0, 'pH'),\n",
              "  Text(7, 0, 'sulphates'),\n",
              "  Text(8, 0, 'alcohol'),\n",
              "  Text(9, 0, 'type_white')])"
            ]
          },
          "execution_count": 25,
          "metadata": {},
          "output_type": "execute_result"
        },
        {
          "data": {
            "image/png": "[encoded data removed]",
            "text/plain": [
              "<Figure size 640x480 with 1 Axes>"
            ]
          },
          "metadata": {},
          "output_type": "display_data"
        }
      ],
      "source": [
        "variables = X_train.columns.tolist()\n",
        "\n",
        "plt.bar(variables, mi)\n",
        "plt.xlabel('Variables')\n",
        "plt.ylabel('Información Mutua')\n",
        "plt.title('Relevancia de Variables con respecto a la Variable Objetivo')\n",
        "plt.xticks(rotation=45, ha='right')"
      ]
    },
    {
      "attachments": {},
      "cell_type": "markdown",
      "metadata": {
        "id": "YlrYOAqhs_M9"
      },
      "source": [
        "> f) Cree un segundo conjunto quitando las características que menos aportan información según lo observado en su gráfico de la pregunta anterior. El número de características a quitar es algo que usted deberá escoger y argumentar por qué lo escogió. En adelante al conjunto con todas las variables lo llamaremos conjunto $\\textit{A}$ y al nuevo conjunto creado con las características quitadas lo llamaremos conjunto $\\textit{B}$."
      ]
    },
    {
      "attachments": {},
      "cell_type": "markdown",
      "metadata": {},
      "source": [
        "> f) `Respuesta`: Consideraremos el número de características a escoger como un hiperparámetro de los modelos a probar, donde se utiliza el valor 'top_{num}' para acceder a cada conjunto."
      ]
    },
    {
      "cell_type": "code",
      "execution_count": 26,
      "metadata": {},
      "outputs": [
        {
          "data": {
            "text/plain": [
              "[1, 2, 3, 4, 5, 6, 7, 8, 9]"
            ]
          },
          "execution_count": 26,
          "metadata": {},
          "output_type": "execute_result"
        }
      ],
      "source": [
        "top_cant = list(range(1, X_train.shape[1]))\n",
        "top_cant"
      ]
    },
    {
      "cell_type": "code",
      "execution_count": 27,
      "metadata": {
        "id": "V9GntnP0cl0B"
      },
      "outputs": [
        {
          "name": "stdout",
          "output_type": "stream",
          "text": [
            "top_1\n",
            "['alcohol']\n",
            "(5197, 1)\n",
            "(1300, 1)\n",
            "-----------------\n",
            "top_2\n",
            "['alcohol', 'volatile acidity']\n",
            "(5197, 2)\n",
            "(1300, 2)\n",
            "-----------------\n",
            "top_3\n",
            "['alcohol', 'volatile acidity', 'residual sugar']\n",
            "(5197, 3)\n",
            "(1300, 3)\n",
            "-----------------\n",
            "top_4\n",
            "['alcohol', 'volatile acidity', 'residual sugar', 'chlorides']\n",
            "(5197, 4)\n",
            "(1300, 4)\n",
            "-----------------\n",
            "top_5\n",
            "['alcohol', 'volatile acidity', 'residual sugar', 'chlorides', 'free sulfur dioxide']\n",
            "(5197, 5)\n",
            "(1300, 5)\n",
            "-----------------\n",
            "top_6\n",
            "['alcohol', 'volatile acidity', 'residual sugar', 'chlorides', 'free sulfur dioxide', 'citric acid']\n",
            "(5197, 6)\n",
            "(1300, 6)\n",
            "-----------------\n",
            "top_7\n",
            "['alcohol', 'volatile acidity', 'residual sugar', 'chlorides', 'free sulfur dioxide', 'citric acid', 'fixed acidity']\n",
            "(5197, 7)\n",
            "(1300, 7)\n",
            "-----------------\n",
            "top_8\n",
            "['alcohol', 'volatile acidity', 'residual sugar', 'chlorides', 'free sulfur dioxide', 'citric acid', 'fixed acidity', 'type_white']\n",
            "(5197, 8)\n",
            "(1300, 8)\n",
            "-----------------\n",
            "top_9\n",
            "['alcohol', 'volatile acidity', 'residual sugar', 'chlorides', 'free sulfur dioxide', 'citric acid', 'fixed acidity', 'type_white', 'sulphates']\n",
            "(5197, 9)\n",
            "(1300, 9)\n",
            "-----------------\n"
          ]
        }
      ],
      "source": [
        "B_groups = {}\n",
        "for num in top_cant:\n",
        "    columns = df_mi.iloc[:num, 0].tolist()\n",
        "    B_groups[f'top_{num}'] = [X_train[columns], X_test[columns]]\n",
        "    print(f'top_{num}')\n",
        "    print(columns)\n",
        "    print(B_groups[f'top_{num}'][0].shape)\n",
        "    print(B_groups[f'top_{num}'][1].shape)\n",
        "    print('-----------------')\n",
        "\n",
        "A = [X_train, X_test]"
      ]
    },
    {
      "attachments": {},
      "cell_type": "markdown",
      "metadata": {
        "id": "TFTHk1mUgrdq"
      },
      "source": [
        "## 1.2 Modelos de Regresión\n",
        "\n",
        "Para las siguientes preguntas usted debera entrenar, validar y evaluar los modelos utilizando los conjuntos $A$ y $B$ por separado, para luego hacer las respectivas comparaciones entre ambos. Cada modelo tiene sus propios hiperparámetros que usted deberá ajustar a través de una búsqueda en grilla, obteniendo así un conjunto de modelos distintos para posteriormente comparar las métricas de evaluación sobre el conjunto de prueba. Usted estará explorando un subconjunto del espacio de hipótesis variando los hiperparámetros que se le indiquen en cada modelo usando el módulo gridsearchcv de la librería sklearn. En el módulo gridsearchcv fije los parámetros de la forma: "
      ]
    },
    {
      "cell_type": "code",
      "execution_count": 28,
      "metadata": {
        "id": "tcndRMyXhgXz"
      },
      "outputs": [],
      "source": [
        "#GridSearchCV(estimator, param_grid, scoring=mean_squared_error, refit=True)"
      ]
    },
    {
      "attachments": {},
      "cell_type": "markdown",
      "metadata": {
        "id": "0SKTwg4LhtjU"
      },
      "source": [
        "Siendo estimator el modelo a utilizar, scoring, la métrica para evaluar el modelo y refit=True para una vez probado todo el subconjunto del espacio de hipótesis, escojer el mejor modelo y entrenarlo con todo el conjunto de entrenamiento.\n",
        "\n",
        "**Nota:** puede utilizar parte del código utilizado en la tarea 1 de esta asignatura."
      ]
    },
    {
      "attachments": {},
      "cell_type": "markdown",
      "metadata": {},
      "source": [
        "> Utilizando el modelo de gradiente descendente estocástico (SGD):\n",
        "> - y_train también se debe estandarizar para el correcto preprocesamiento de datos"
      ]
    },
    {
      "attachments": {},
      "cell_type": "markdown",
      "metadata": {},
      "source": [
        "Droppie está parte del código... - Diego"
      ]
    },
    {
      "cell_type": "code",
      "execution_count": 29,
      "metadata": {},
      "outputs": [
        {
          "name": "stdout",
          "output_type": "stream",
          "text": [
            "trying with top_1...\n"
          ]
        },
        {
          "name": "stdout",
          "output_type": "stream",
          "text": [
            "error: 0.6131531270338967\n",
            "\n",
            "----------------------------------\n",
            "\n",
            "trying with top_2...\n",
            "error: 0.568687662616923\n",
            "\n",
            "----------------------------------\n",
            "\n",
            "trying with top_3...\n",
            "error: 0.5711808724571324\n",
            "\n",
            "----------------------------------\n",
            "\n",
            "trying with top_4...\n",
            "error: 0.5675408740236475\n",
            "\n",
            "----------------------------------\n",
            "\n",
            "trying with top_5...\n",
            "error: 0.5722944391495933\n",
            "\n",
            "----------------------------------\n",
            "\n",
            "trying with top_6...\n",
            "error: 0.5715577461903907\n",
            "\n",
            "----------------------------------\n",
            "\n",
            "trying with top_7...\n",
            "error: 0.5736759013116679\n",
            "\n",
            "----------------------------------\n",
            "\n",
            "trying with top_8...\n",
            "error: 0.6051511952603437\n",
            "\n",
            "----------------------------------\n",
            "\n",
            "trying with top_9...\n",
            "error: 0.5610221140440137\n",
            "\n",
            "----------------------------------\n",
            "\n",
            "Se selecciona top_9\n"
          ]
        }
      ],
      "source": [
        "y_scaler = preprocessing.StandardScaler()\n",
        "y_train_sd = y_scaler.fit_transform(np.array(y_train).reshape(-1, 1))\n",
        "\n",
        "# Parametros k fold cross valitation\n",
        "k=5\n",
        "cv_folds=KFold(n_splits=k, shuffle=True)\n",
        "\n",
        "# grilla\n",
        "param_grid = {'eta0': [0.1, 0.01, 0.001], \n",
        "              'penalty': ['l2', 'l1'], \n",
        "              'alpha': [0.0001, 0.001, 0.01],          \n",
        "              'learning_rate': ['constant', 'optimal', 'invscaling']} \n",
        "\n",
        "best = 99\n",
        "best_error = 10000000 #grande grande\n",
        "for num in top_cant:\n",
        "    print(f'trying with top_{num}...')\n",
        "\n",
        "    reg = SGDRegressor(loss='squared_error', \n",
        "                    max_iter=300, #epochs\n",
        "                    early_stopping = True, # Default False\n",
        "                    n_iter_no_change=10, # Patience\n",
        "                    tol=0.001, \n",
        "                    shuffle=True,                                       \n",
        "                    power_t=0.25\n",
        "                    )\n",
        "    hypereg = GridSearchCV(reg, \n",
        "             param_grid, \n",
        "             scoring='neg_mean_squared_error',               \n",
        "             refit=True, \n",
        "             cv=cv_folds, \n",
        "             verbose=0, \n",
        "            )\n",
        "    \n",
        "    warnings.filterwarnings('ignore')\n",
        "\n",
        "    # Entremamos el modelo en la regilla\n",
        "    hypereg.fit(B_groups[f'top_{num}'][0], np.asarray(y_train_sd).ravel())\n",
        "\n",
        "    warnings.filterwarnings('default')\n",
        "\n",
        "    # Obtenemos el valor predicho\n",
        "    y_pred = hypereg.predict(B_groups[f'top_{num}'][1]).reshape(-1, 1)\n",
        "\n",
        "    # Escalamos a la escala original los valores predichos\n",
        "    y_pred = y_scaler.inverse_transform(y_pred)\n",
        "\n",
        "    error = mean_squared_error(y_test, y_pred)\n",
        "\n",
        "    print(f'error: {error}')\n",
        "    if error < best_error:\n",
        "        best = num\n",
        "        best_error = error\n",
        "    print('\\n----------------------------------\\n')\n",
        "\n",
        "print(f\"Se selecciona top_{best}\")"
      ]
    },
    {
      "cell_type": "code",
      "execution_count": 30,
      "metadata": {},
      "outputs": [
        {
          "name": "stdout",
          "output_type": "stream",
          "text": [
            "9 0.5610221140440137\n"
          ]
        }
      ],
      "source": [
        "print(best, best_error)"
      ]
    },
    {
      "attachments": {},
      "cell_type": "markdown",
      "metadata": {
        "id": "KqzXP2_EgyPE"
      },
      "source": [
        "### 1.2.1 Árbol de regresión\n",
        "\n",
        "Entrene un árbol de regresión manteniendo fijos por defecto los que no se mencionen y variando los siguientes parámetros utilizando el módulo gridsearchcv de la librería sklearn:\n",
        "\n",
        "> a) max_depth: Probar con las profundidades 2, 20, 200. Describa brevemente qué es lo que significa modificar este hiperparámetro.\n",
        "\n",
        "> b) max_leaf_nodes: Probar con los valores 10, 50, 100. Describa brevemente qué es lo que significa modificar este hiperparámetro.\n",
        "\n",
        "Responda las siguientes preguntas:\n",
        "\n",
        "> c) ¿Cuántos modelos de árboles de regresión le quedan en total?\n",
        ">\n",
        "> `Respuesta`: 9 ?????????????\n",
        "\n",
        "> d) De todas las combinaciones que entrenó, ¿cual es la que mejores resultados le da? Para esta pregunta evalue el modelo con el conjunto de validación de la grilla utilizando la métrica de evaluación $mean\\_squared\\_error$.\n",
        "\n",
        "**Nota:** Recuerde que estos experimentos debe realizarlos para ambas representaciones de los conjuntos ($A$ y $B$).\n",
        "\n"
      ]
    },
    {
      "attachments": {},
      "cell_type": "markdown",
      "metadata": {},
      "source": [
        "- Por el resultado anterior, hare todo considerando B = top_xx, sin prejuicio de que luego pueda ser cambiado."
      ]
    },
    {
      "cell_type": "code",
      "execution_count": 31,
      "metadata": {},
      "outputs": [],
      "source": [
        "B = B_groups[f'top_{best}']\n",
        "X_train_B = B[0]\n",
        "X_test_B = B[1]"
      ]
    },
    {
      "cell_type": "code",
      "execution_count": 32,
      "metadata": {},
      "outputs": [
        {
          "name": "stdout",
          "output_type": "stream",
          "text": [
            "Representación A:\n",
            "Mejores parámetros: {'max_depth': 20, 'max_leaf_nodes': 50}\n",
            "Error en cada modelo: [0.77637431 0.77637431 0.77637431 0.73419643 0.70899521 0.74044162\n",
            " 0.73419643 0.70899521 0.74044162]\n",
            "Error del mejor modelo: 0.7089952054777302\n",
            "-------------------------------------------------------------\n",
            "Representación B:\n",
            "Mejores parámetros: {'max_depth': 20, 'max_leaf_nodes': 50}\n",
            "Error en cada modelo: [0.77637431 0.77637431 0.77637431 0.73419643 0.71021216 0.73819546\n",
            " 0.73419643 0.71021216 0.73819546]\n",
            "Error del mejor modelo: 0.7102121554065135\n",
            "-------------------------------------------------------------\n",
            "\n",
            "d) Respuesta: La mejor representación es la A\n"
          ]
        }
      ],
      "source": [
        "param_grid = {\n",
        "    'max_depth': [2, 20, 200],\n",
        "    'max_leaf_nodes': [10, 50, 100]\n",
        "}\n",
        "\n",
        "model_1 = DecisionTreeRegressor(random_state=42)\n",
        "\n",
        "grid_search = GridSearchCV(model_1, param_grid, cv=5, scoring='neg_mean_squared_error')\n",
        "\n",
        "############# A #############\n",
        "rep_A = grid_search.fit(X_train, y_train_sd)\n",
        "best_model_A = rep_A.best_estimator_\n",
        "\n",
        "best_params = grid_search.best_params_\n",
        "print('Representación A:')\n",
        "print(\"Mejores parámetros:\", best_params)\n",
        "\n",
        "cv_results = rep_A.cv_results_\n",
        "error_A = -cv_results['mean_test_score']\n",
        "print(f'Error en cada modelo: {error_A}')\n",
        "\n",
        "best_score_A = -rep_A.best_score_\n",
        "print(f'Error del mejor modelo: {best_score_A}')\n",
        "\n",
        "print('-------------------------------------------------------------')\n",
        "\n",
        "\n",
        "############# B #############\n",
        "\n",
        "'''for num in top_cant:   \n",
        "    B = B_groups[f'top_{num}']\n",
        "    X_train_B = B[0]\n",
        "    X_test_B = B[1]'''\n",
        "\n",
        "rep_B = grid_search.fit(X_train_B, y_train_sd)\n",
        "best_model_B = rep_B.best_estimator_\n",
        "\n",
        "best_params = grid_search.best_params_\n",
        "print('Representación B:')\n",
        "print(\"Mejores parámetros:\", best_params)\n",
        "\n",
        "cv_results = rep_B.cv_results_\n",
        "error_B = -cv_results['mean_test_score']\n",
        "print(f'Error en cada modelo: {error_B}')\n",
        "\n",
        "best_score_B = -rep_B.best_score_\n",
        "print(f'Error del mejor modelo: {best_score_B}')\n",
        "\n",
        "print('-------------------------------------------------------------\\n')\n",
        "\n",
        "################################\n",
        "\n",
        "best_rep_1 = 'A'\n",
        "if best_score_B < best_score_A:\n",
        "    best_rep_1 = 'B'\n",
        "\n",
        "print(f'd) Respuesta: La mejor representación es la {best_rep_1}')"
      ]
    },
    {
      "attachments": {},
      "cell_type": "markdown",
      "metadata": {
        "id": "2M87NTHqpYsO"
      },
      "source": [
        "> e) Entrene el conjunto de entrenamiento completo con el mejor modelo y mejor representación ($A$ o $B$) obtenida y evalúe su desempeño sobre el conjunto de prueba utilizando la métrica de evaluación $mean\\_squared\\_error$."
      ]
    },
    {
      "cell_type": "code",
      "execution_count": 33,
      "metadata": {},
      "outputs": [
        {
          "name": "stdout",
          "output_type": "stream",
          "text": [
            "Error mejor representación y mejor modelo: 0.559845446583892\n"
          ]
        }
      ],
      "source": [
        "if best_rep_1 == 'A':\n",
        "    best_model = best_model_A.fit(X_train, y_train_sd)\n",
        "    y_pred = y_scaler.inverse_transform(np.array(best_model.predict(X_test)).reshape(-1, 1))\n",
        "else:\n",
        "    best_model = best_model_B.fit(X_train_B, y_train_sd)\n",
        "    y_pred = y_scaler.inverse_transform(np.array(best_model.predict(X_test_B)).reshape(-1, 1))\n",
        "\n",
        "error = mean_squared_error(y_test, y_pred)\n",
        "print(f'Error mejor representación y mejor modelo: {error}')"
      ]
    },
    {
      "attachments": {},
      "cell_type": "markdown",
      "metadata": {
        "id": "UNVi9PhtjAGQ"
      },
      "source": [
        "### 1.2.2 Random Forest Regressor\n",
        "\n",
        "Entrene un bosque aleatorio de regresión manteniendo fijos por defecto los que no se mencionen y variando los siguientes parámetros utilizando el módulo gridsearchcv de la librería sklearn:\n",
        "\n",
        "* max_depth: Probar con las profundidades 2, 20, 200. Describa brevemente qué es lo que significa modificar este hiperparámetro.\n",
        "\n",
        "* max_samples: Probar con las siguientes proporciones 0.1, 0.5, 1.0. Describa brevemente qué es lo que significa modificar este hiperparámetro.\n",
        "\n",
        "El objetivo de los métodos $\\textit{ensemble machine}$ es combinar las predicciones de varios estimadores base construidos con un algoritmo de aprendizaje determinado para mejorar la capacidad de generalización / robustez respecto a un único estimador. Se suelen distinguir dos familias de métodos ensemble: los métodos $averaging$ y los métodos $boosting$. Respecto a lo anterior responda las siguientes preguntas:\n",
        "\n",
        "> a) Defina con sus propias palabras qué son y en qué se diferencian los métodos $averaging$ y $boosting$.\n",
        ">\n",
        "> `Respuesta`: **ChatGPT**\n",
        "> Los métodos \"averaging\" y \"boosting\" son dos enfoques diferentes para combinar las predicciones de varios estimadores base en un modelo de aprendizaje en conjunto.\n",
        ">\n",
        "> En los métodos \"averaging\", se construyen varios estimadores base independientes y cada uno de ellos realiza sus predicciones por separado. Luego, las predicciones de todos los estimadores se promedian para obtener la predicción final del modelo en conjunto. El objetivo principal de los métodos \"averaging\" es reducir la variabilidad de las predicciones individuales mediante la combinación de múltiples estimadores. Ejemplos comunes de métodos \"averaging\" son el promedio simple, el promedio ponderado y el promedio por votación.\n",
        ">\n",
        "> Por otro lado, en los métodos \"boosting\", se construyen estimadores base de forma secuencial, donde cada uno de ellos se enfoca en mejorar los errores cometidos por los estimadores anteriores. En cada iteración, el modelo se ajusta para dar mayor importancia a las muestras que fueron clasificadas incorrectamente por los estimadores anteriores. De esta manera, el modelo se \"impulsa\" o \"fortalece\" para mejorar su rendimiento a medida que avanza. El objetivo principal de los métodos \"boosting\" es crear un modelo en conjunto más fuerte que pueda compensar las deficiencias de los estimadores individuales. Ejemplos populares de métodos \"boosting\" son AdaBoost, Gradient Boosting y XGBoost.\n",
        ">\n",
        "> En resumen, la principal diferencia entre los métodos \"averaging\" y \"boosting\" radica en la forma en que combinan las predicciones de los estimadores base. Los métodos \"averaging\" promedian las predicciones independientes, mientras que los métodos \"boosting\" construyen estimadores secuenciales que se mejoran en cada iteración para crear un modelo en conjunto más poderoso.\n",
        "\n",
        "> b) A cual de los dos anteriormente definidos pertenece el modelo de regresión Random Forest?\n",
        ">\n",
        "> `Respuesta`: **ChatGPT**\n",
        "> El modelo de regresión Random Forest pertenece a la familia de métodos \"averaging\" dentro de los métodos ensemble.\n",
        ">\n",
        "> Random Forest combina múltiples árboles de decisión independientes para realizar predicciones. Cada árbol de decisión en el Random Forest se entrena en una muestra aleatoria del conjunto de datos original y realiza predicciones independientes. Luego, las predicciones de todos los árboles se promedian para obtener la predicción final del modelo en conjunto. Este promedio de predicciones ayuda a reducir la varianza y mejorar la capacidad de generalización del modelo.\n",
        ">\n",
        "> La idea detrás del Random Forest es que cada árbol de decisión puede ser débil por sí solo, pero al combinar múltiples árboles y promediar sus predicciones, se obtiene un modelo en conjunto más fuerte y robusto.\n",
        "\n",
        "> c) De todas las combinaciones que entrenó, ¿cual es la que mejores resultados le da? Para esta pregunta evalue el modelo con el conjunto de validación utilizando la métrica de evaluación $mean\\_squared\\_error$."
      ]
    },
    {
      "attachments": {},
      "cell_type": "markdown",
      "metadata": {},
      "source": [
        "a) Ambos metodos se centran en entrenar modelos para distintos subconjuntos de los datos de entrenamiento para entregan un resultado general combinando los resultados individuales, la diferencia radica en que averaging consisten en promediar todos los resultados con el fin de evitar el sesgo individual de cada modelo distinto y obtener un resultado general promediado, mientras que boosting se encarga de ponderar distintos resultados con la finalidad de enfatizar en los casos que los modelos fallen mas generando mas un ponderado final, otorgando distintos pesos, para obtener un mejor resultado final. (bla bla bla)"
      ]
    },
    {
      "cell_type": "code",
      "execution_count": 34,
      "metadata": {},
      "outputs": [],
      "source": [
        "y_train_sd = y_train_sd.ravel()"
      ]
    },
    {
      "cell_type": "code",
      "execution_count": 35,
      "metadata": {},
      "outputs": [
        {
          "name": "stdout",
          "output_type": "stream",
          "text": [
            "Representación A:\n",
            "Mejores parámetros: {'max_depth': 200, 'max_samples': 0.5}\n",
            "Error en cada modelo: [0.73347444 0.74629205 1.00280825 0.62493066 0.54664368 1.00280825\n",
            " 0.62520407 0.54603408 1.00280825]\n",
            "Error del mejor modelo: 0.5460340796361796\n",
            "-------------------------------------------------------------\n",
            "Representación B:\n",
            "Mejores parámetros: {'max_depth': 200, 'max_samples': 0.5}\n",
            "Error en cada modelo: [0.73328243 0.74629205 1.00280825 0.62547461 0.55010622 1.00280825\n",
            " 0.6254381  0.54948423 1.00280825]\n",
            "Error del mejor modelo: 0.5494842317263776\n",
            "-------------------------------------------------------------\n",
            "\n",
            "c) Respuesta: La mejor representación es la A\n"
          ]
        }
      ],
      "source": [
        "param_grid = {\n",
        "    'max_depth': [2, 20, 200],\n",
        "    'max_samples': [0.1, 0.5, 1]\n",
        "}\n",
        "\n",
        "model_2 = RandomForestRegressor(random_state=42)\n",
        "\n",
        "grid_search = GridSearchCV(model_2, param_grid, cv=5, scoring='neg_mean_squared_error')\n",
        "\n",
        "############# A #############\n",
        "rep_A = grid_search.fit(X_train, y_train_sd)\n",
        "best_model_A = rep_A.best_estimator_\n",
        "\n",
        "best_params = grid_search.best_params_\n",
        "print('Representación A:')\n",
        "print(\"Mejores parámetros:\", best_params)\n",
        "\n",
        "cv_results = rep_A.cv_results_\n",
        "error_A = -cv_results['mean_test_score']\n",
        "print(f'Error en cada modelo: {error_A}')\n",
        "\n",
        "best_score_A = -rep_A.best_score_\n",
        "print(f'Error del mejor modelo: {best_score_A}')\n",
        "\n",
        "print('-------------------------------------------------------------')\n",
        "\n",
        "\n",
        "############# B #############\n",
        "\n",
        "'''for num in top_cant:   \n",
        "    B = B_groups[f'top_{num}']\n",
        "    X_train_B = B[0]\n",
        "    X_test_B = B[1]'''\n",
        "\n",
        "rep_B = grid_search.fit(X_train_B, y_train_sd)\n",
        "best_model_B = rep_B.best_estimator_\n",
        "\n",
        "best_params = grid_search.best_params_\n",
        "print('Representación B:')\n",
        "print(\"Mejores parámetros:\", best_params)\n",
        "\n",
        "cv_results = rep_B.cv_results_\n",
        "error_B = -cv_results['mean_test_score']\n",
        "print(f'Error en cada modelo: {error_B}')\n",
        "\n",
        "best_score_B = -rep_B.best_score_\n",
        "print(f'Error del mejor modelo: {best_score_B}')\n",
        "\n",
        "print('-------------------------------------------------------------\\n')\n",
        "\n",
        "################################\n",
        "\n",
        "best_rep_2 = 'A'\n",
        "if best_score_B < best_score_A:\n",
        "    best_rep_2 = 'B'\n",
        "\n",
        "print(f'c) Respuesta: La mejor representación es la {best_rep_2}')"
      ]
    },
    {
      "cell_type": "code",
      "execution_count": 36,
      "metadata": {},
      "outputs": [
        {
          "name": "stdout",
          "output_type": "stream",
          "text": [
            "Error mejor representación y mejor modelo: 0.38865015384615387\n"
          ]
        }
      ],
      "source": [
        "if best_rep_2 == 'A':\n",
        "    best_model = best_model_A.fit(X_train, y_train_sd)\n",
        "    y_pred = y_scaler.inverse_transform(np.array(best_model.predict(X_test)).reshape(-1, 1))\n",
        "else:\n",
        "    best_model = best_model_B.fit(X_train_B, y_train_sd)\n",
        "    y_pred = y_scaler.inverse_transform(np.array(best_model.predict(X_test_B)).reshape(-1, 1))\n",
        "\n",
        "error = mean_squared_error(y_test, y_pred)\n",
        "print(f'Error mejor representación y mejor modelo: {error}')"
      ]
    },
    {
      "attachments": {},
      "cell_type": "markdown",
      "metadata": {
        "id": "W4fwVniNjgPM"
      },
      "source": [
        "### 1.2.3 Bagging Regressor\n",
        "\n",
        "Entrene un Bagging regresor utilizando como estimador (parámetro $estimator$) el mejor árbol de decisión obtenido en la pregunta 1.2.1, variando los siguientes parámetros utilizando el módulo gridsearchcv de la librería sklearn:\n",
        "\n",
        "* n_estimators: Probar con 10, 100, 1000 estimadores. Describa brevemente qué es lo que significa modificar este hiperparámetro.\n",
        "\n",
        "* max_samples: Probar con las siguientes proporciones 0.1, 0.5, 1.0. Describa brevemente qué es lo que significa modificar este hiperparámetro.\n",
        "\n",
        "Responda las siguientes preguntas\n",
        "\n",
        "> a) ¿Cómo funciona el modelo Bagging?\n",
        ">\n",
        "> `Respuesta`: **ChatGPT**\n",
        "> El modelo Bagging (Bootstrap Aggregating) es un método de ensamble que combina múltiples modelos de aprendizaje para mejorar la precisión y la estabilidad de las predicciones. Funciona mediante la generación de múltiples conjuntos de datos de entrenamiento, llamados muestras de arranque, a partir del conjunto de datos original mediante muestreo con reemplazo.\n",
        ">\n",
        "> Cada conjunto de datos de entrenamiento se utiliza para entrenar un modelo de aprendizaje independiente, en este caso, el árbol de decisión. Luego, se realiza la predicción con cada uno de estos modelos y se combinan los resultados para obtener una predicción final. En el caso de la regresión, esto puede ser un promedio de las predicciones de cada modelo.\n",
        ">\n",
        "> El proceso de muestreo con reemplazo y entrenamiento de modelos múltiples ayuda a reducir el sesgo y la varianza del modelo. Además, el Bagging permite aprovechar el poder de la paralelización, ya que los modelos se pueden entrenar de manera independiente en paralelo.\n",
        ">\n",
        "> En resumen, el modelo Bagging utiliza múltiples modelos de aprendizaje entrenados en diferentes conjuntos de datos de entrenamiento para obtener una predicción más precisa y estable.\n",
        "\n",
        "> b) A qué familia de métodos pertenece el Bagging regresor: $averaging$ o $boosting$.\n",
        ">\n",
        "> `Respuesta`: **ChatGPT**\n",
        "> El Bagging Regressor pertenece a la familia de métodos de ensamble conocidos como \"averaging\" o promedio. En este tipo de ensamble, se entrenan varios modelos de manera independiente y luego se promedian sus predicciones para obtener la predicción final. En el caso del Bagging Regressor, se promedian las predicciones de múltiples árboles de decisión entrenados en conjuntos de datos de entrenamiento diferentes. Por lo tanto, el Bagging Regressor es un método de ensamble basado en el promedio y no en el boosting, donde los modelos se construyen secuencialmente y se enfocan en mejorar los errores cometidos por los modelos anteriores.\n",
        "\n",
        "> c) De todas las combinaciones que entrenó, ¿cual es la que mejores resultados le da? Para esta pregunta evalue el modelo con el conjunto de validación utilizando la métrica de evaluación $mean\\_squared\\_error$."
      ]
    },
    {
      "cell_type": "code",
      "execution_count": 37,
      "metadata": {},
      "outputs": [
        {
          "name": "stdout",
          "output_type": "stream",
          "text": [
            "Representación A:\n",
            "Mejores parámetros: {'max_samples': 0.5, 'n_estimators': 1000}\n",
            "Error en cada modelo: [0.69531224 0.62478864 0.61712294 0.59871736 0.54667452 0.53964435\n",
            " 1.20757042 1.00280825 1.00066543]\n",
            "Error del mejor modelo: 0.5396443451460462\n",
            "-------------------------------------------------------------\n",
            "Representación B:\n",
            "Mejores parámetros: {'max_samples': 0.5, 'n_estimators': 1000}\n",
            "Error en cada modelo: [0.69318202 0.62378178 0.6169127  0.60230231 0.54900452 0.54415046\n",
            " 1.20757042 1.00280825 1.00066543]\n",
            "Error del mejor modelo: 0.5441504645044379\n",
            "-------------------------------------------------------------\n",
            "\n",
            "c) Respuesta: La mejor representación es la A\n"
          ]
        }
      ],
      "source": [
        "param_grid = {\n",
        "    'n_estimators': [10, 100, 1000],\n",
        "    'max_samples': [0.1, 0.5, 1]\n",
        "}\n",
        "\n",
        "model_3 = BaggingRegressor(random_state=42)\n",
        "\n",
        "grid_search = GridSearchCV(model_3, param_grid, cv=5, scoring='neg_mean_squared_error')\n",
        "\n",
        "############# A #############\n",
        "rep_A = grid_search.fit(X_train, y_train_sd)\n",
        "best_model_A = rep_A.best_estimator_\n",
        "\n",
        "best_params = grid_search.best_params_\n",
        "print('Representación A:')\n",
        "print(\"Mejores parámetros:\", best_params)\n",
        "\n",
        "cv_results = rep_A.cv_results_\n",
        "error_A = -cv_results['mean_test_score']\n",
        "print(f'Error en cada modelo: {error_A}')\n",
        "\n",
        "best_score_A = -rep_A.best_score_\n",
        "print(f'Error del mejor modelo: {best_score_A}')\n",
        "\n",
        "print('-------------------------------------------------------------')\n",
        "\n",
        "\n",
        "############# B #############\n",
        "\n",
        "'''for num in top_cant:   \n",
        "    B = B_groups[f'top_{num}']\n",
        "    X_train_B = B[0]\n",
        "    X_test_B = B[1]'''\n",
        "\n",
        "rep_B = grid_search.fit(X_train_B, y_train_sd)\n",
        "best_model_B = rep_B.best_estimator_\n",
        "\n",
        "best_params = grid_search.best_params_\n",
        "print('Representación B:')\n",
        "print(\"Mejores parámetros:\", best_params)\n",
        "\n",
        "cv_results = rep_B.cv_results_\n",
        "error_B = -cv_results['mean_test_score']\n",
        "print(f'Error en cada modelo: {error_B}')\n",
        "\n",
        "best_score_B = -rep_B.best_score_\n",
        "print(f'Error del mejor modelo: {best_score_B}')\n",
        "\n",
        "print('-------------------------------------------------------------\\n')\n",
        "\n",
        "################################\n",
        "\n",
        "best_rep_3 = 'A'\n",
        "if best_score_B < best_score_A:\n",
        "    best_rep_3 = 'B'\n",
        "\n",
        "print(f'c) Respuesta: La mejor representación es la {best_rep_3}')"
      ]
    },
    {
      "cell_type": "code",
      "execution_count": 38,
      "metadata": {},
      "outputs": [
        {
          "name": "stdout",
          "output_type": "stream",
          "text": [
            "Error mejor representación y mejor modelo: 0.3879694407692307\n"
          ]
        }
      ],
      "source": [
        "if best_rep_3 == 'A':\n",
        "    best_model = best_model_A.fit(X_train, y_train_sd)\n",
        "    y_pred = y_scaler.inverse_transform(np.array(best_model.predict(X_test)).reshape(-1, 1))\n",
        "else:\n",
        "    best_model = best_model_B.fit(X_train_B, y_train_sd)\n",
        "    y_pred = y_scaler.inverse_transform(np.array(best_model.predict(X_test_B)).reshape(-1, 1))\n",
        "\n",
        "error = mean_squared_error(y_test, y_pred)\n",
        "print(f'Error mejor representación y mejor modelo: {error}')"
      ]
    },
    {
      "attachments": {},
      "cell_type": "markdown",
      "metadata": {
        "id": "pay3G53ZkkdA"
      },
      "source": [
        "## 1.3 Conclusiones\n",
        "\n",
        "Comente con qué modelo y representación obtiene los mejores resultados, ¿qué otros experimentos realizaría para intentar mejorar los resultados?"
      ]
    },
    {
      "attachments": {},
      "cell_type": "markdown",
      "metadata": {
        "id": "A3M0LqssgFsS"
      },
      "source": [
        "# 2. Reconocimiento de actividad humana mediante sensores de movimiento.\n",
        "\n",
        "Los conjuntos de datos provienen del UCI Machine Learning Repository. En este conjuntos de datos cada persona realizó seis actividades (CWALKING, WALKING_UPSTAIRS, WALKING_DOWNSTAIRS, SITTING, STANDING, LAYING) llevando un smartphone en la cintura. Utilizando su acelerómetro y giroscopio integrados, capturamos la aceleración lineal de 3 ejes y la velocidad angular de 3 ejes a una frecuencia constante de 50 Hz. El conjunto de datos obtenido se ha dividido aleatoriamente en dos conjuntos, de los que se seleccionó el 70% de los voluntarios para generar los datos de entrenamiento y el 30% los datos de prueba.\n",
        "\n",
        "<center><img src=\"https://imgtr.ee/images/2023/06/04/bSx54.jpg\" alt=\"bSx54.jpg\" border=\"0\" width=\"480\" height=\"480\" /></center>\n",
        "\n",
        "Para esta pregunta nos centraremos en la tarea de clasificación de actividades (variable objetivo) según los datos de movimiento proporcionados por los sensores (atributos).\n",
        "\n",
        "Para cada registro en el conjunto de datos nos centraremos en:\n",
        "* Aceleración triaxial del acelerómetro (aceleración total) y la aceleración estimada del cuerpo.\n",
        "* Velocidad angular triaxial del giroscopio.\n",
        "\n",
        "* Su etiqueta de actividad.\n",
        "\n",
        "Para obtener el dataset, artículos publicados y más información, por favor dirigirse al siguiente [link](https://archive.ics.uci.edu/ml/datasets/human+activity+recognition+using+smartphones).\n",
        "\n"
      ]
    },
    {
      "attachments": {},
      "cell_type": "markdown",
      "metadata": {
        "id": "PbQApV_ds6rV"
      },
      "source": [
        "## 2.1 Obtención, manipulación y exploración del conjunto de datos\n",
        "\n",
        "Con el link proporcionado arriba, haga click en Data Folders y luego en *UCI HAR Dataset.names* para obtener una guía acerca de la estructura de los directorios. Descargue, descomprima los datos y explore la estructura de los directorios (*UCI HAR Dataset.zip*).\n",
        "\n",
        "Para esta oportunidad solo nos centraremos en los dato que se encuentran en las carpetas *Inertial Signals*, para entrenamiento y pruebas."
      ]
    },
    {
      "attachments": {},
      "cell_type": "markdown",
      "metadata": {
        "id": "-0Bg_ZMkvpvy"
      },
      "source": [
        "### 2.1.1 Exploración del conjunto de datos\n",
        "\n",
        "Una vez comprendida la estructura de los directorios, asegurese de poder navegar por los archivos correctamente:\n",
        "\n",
        "> a) El código a continuación debe imprimir las rutas a todos los archivos del conjunto de datos que usted acaba de descargar. Ejemplo: /su ruta/UCI HAR Dataset/train/Inertial Signals/body_acc_z_train.txt"
      ]
    },
    {
      "cell_type": "code",
      "execution_count": 3,
      "metadata": {
        "id": "qK-hkRBJEiEP"
      },
      "outputs": [
        {
          "name": "stdout",
          "output_type": "stream",
          "text": [
            "UCI HAR Dataset/.DS_Store\n",
            "UCI HAR Dataset/activity_labels.txt\n",
            "UCI HAR Dataset/features.txt\n",
            "UCI HAR Dataset/features_info.txt\n",
            "UCI HAR Dataset/README.txt\n",
            "UCI HAR Dataset/test\\subject_test.txt\n",
            "UCI HAR Dataset/test\\X_test.txt\n",
            "UCI HAR Dataset/test\\y_test.txt\n",
            "UCI HAR Dataset/test\\Inertial Signals\\body_acc_x_test.txt\n",
            "UCI HAR Dataset/test\\Inertial Signals\\body_acc_y_test.txt\n",
            "UCI HAR Dataset/test\\Inertial Signals\\body_acc_z_test.txt\n",
            "UCI HAR Dataset/test\\Inertial Signals\\body_gyro_x_test.txt\n",
            "UCI HAR Dataset/test\\Inertial Signals\\body_gyro_y_test.txt\n",
            "UCI HAR Dataset/test\\Inertial Signals\\body_gyro_z_test.txt\n",
            "UCI HAR Dataset/test\\Inertial Signals\\total_acc_x_test.txt\n",
            "UCI HAR Dataset/test\\Inertial Signals\\total_acc_y_test.txt\n",
            "UCI HAR Dataset/test\\Inertial Signals\\total_acc_z_test.txt\n",
            "UCI HAR Dataset/train\\subject_train.txt\n",
            "UCI HAR Dataset/train\\X_train.txt\n",
            "UCI HAR Dataset/train\\y_train.txt\n",
            "UCI HAR Dataset/train\\Inertial Signals\\body_acc_x_train.txt\n",
            "UCI HAR Dataset/train\\Inertial Signals\\body_acc_y_train.txt\n",
            "UCI HAR Dataset/train\\Inertial Signals\\body_acc_z_train.txt\n",
            "UCI HAR Dataset/train\\Inertial Signals\\body_gyro_x_train.txt\n",
            "UCI HAR Dataset/train\\Inertial Signals\\body_gyro_y_train.txt\n",
            "UCI HAR Dataset/train\\Inertial Signals\\body_gyro_z_train.txt\n",
            "UCI HAR Dataset/train\\Inertial Signals\\total_acc_x_train.txt\n",
            "UCI HAR Dataset/train\\Inertial Signals\\total_acc_y_train.txt\n",
            "UCI HAR Dataset/train\\Inertial Signals\\total_acc_z_train.txt\n"
          ]
        }
      ],
      "source": [
        "for dirname, _, filenames in os.walk('UCI HAR Dataset/'):\n",
        "    for filename in filenames:\n",
        "        print(os.path.join(dirname, filename))"
      ]
    },
    {
      "cell_type": "code",
      "execution_count": 4,
      "metadata": {
        "id": "eREpRAkMIh06"
      },
      "outputs": [],
      "source": [
        "LABELS = ['WALKING', 'WALKING_UPSTAIRS', 'WALKING_DOWNSTAIRS', 'SITTING', 'STANDING', 'LAYING']\n",
        "SIGNALS = [\"body_acc_x_\", \"body_acc_y_\", \"body_acc_z_\",\n",
        "           \"body_gyro_x_\", \"body_gyro_y_\", \"body_gyro_z_\",\n",
        "           \"total_acc_x_\", \"total_acc_y_\", \"total_acc_z_\"]"
      ]
    },
    {
      "attachments": {},
      "cell_type": "markdown",
      "metadata": {
        "id": "gV3t_zAMyTIZ"
      },
      "source": [
        "> b) Obtenga la ruta exacta de los archivos e insertelos en una lista (entrenamiento y prueba ). El código a continuación es solo una sugerencia, usted puede optimizar y modificarlo."
      ]
    },
    {
      "cell_type": "code",
      "execution_count": 5,
      "metadata": {
        "id": "seHdXXlTIlB_"
      },
      "outputs": [],
      "source": [
        "train_paths = [(signal, 'UCI HAR Dataset/train/Inertial Signals/' + signal + 'train.txt') for signal in SIGNALS]\n",
        "test_paths = [(signal, 'UCI HAR Dataset/test/Inertial Signals/' + signal + 'test.txt') for signal in SIGNALS]"
      ]
    },
    {
      "attachments": {},
      "cell_type": "markdown",
      "metadata": {
        "id": "D-XeCXTPy_0I"
      },
      "source": [
        "> c) Cree una función __load_X que reciba una lista de rutas como alguna de las anteriormente creadas, y retorne un arreglo de numpy con las siguientes dimensiones (n_samples, signal_len, sensor) donde:\n",
        "* n_samples: es el tamaño de la muestra, o sea, el total de experimentos.\n",
        "* signal_len: es el largo de la señal de los sensores.\n",
        "* sensor: es el sensor o el eje del sensor el cual registra la señal, por ejemplo acelerómetro en el eje $y$.\n"
      ]
    },
    {
      "cell_type": "code",
      "execution_count": 6,
      "metadata": {
        "id": "WJ_edXrhI4QF"
      },
      "outputs": [],
      "source": [
        "def __load_X(X_signal_paths):\n",
        "    X_signals = []\n",
        "\n",
        "    for signal_name, archive in X_signal_paths:      \n",
        "        X_signals.append(pd.read_csv(archive, sep=r'\\s+', header=None))\n",
        "    \n",
        "    X_signals = np.array(X_signals)\n",
        "    X_signals = np.transpose(X_signals, (1, 2, 0))\n",
        "\n",
        "    return X_signals"
      ]
    },
    {
      "cell_type": "code",
      "execution_count": 7,
      "metadata": {
        "id": "rW8ZWBcmI9YX"
      },
      "outputs": [
        {
          "name": "stdout",
          "output_type": "stream",
          "text": [
            "(7352, 128, 9)\n",
            "----------------------------------------------------------------------\n",
            "(2947, 128, 9)\n"
          ]
        }
      ],
      "source": [
        "x_train = __load_X(train_paths)\n",
        "print(x_train.shape)\n",
        "print('----------------------------------------------------------------------')\n",
        "x_test = __load_X(test_paths)\n",
        "print(x_test.shape)"
      ]
    },
    {
      "attachments": {},
      "cell_type": "markdown",
      "metadata": {
        "id": "uw_PBgBN1I6J"
      },
      "source": [
        "> d) Cargue las clases del conjunto de entrenamiento y pruebas en arreglos numpy."
      ]
    },
    {
      "cell_type": "code",
      "execution_count": 8,
      "metadata": {
        "id": "Gb0t2nELJEC7"
      },
      "outputs": [],
      "source": [
        "y_train = np.loadtxt(f'UCI HAR Dataset/train/y_train.txt',  dtype=np.int32)\n",
        "y_test = np.loadtxt(f'UCI HAR Dataset/test/y_test.txt', dtype=np.int32)"
      ]
    },
    {
      "cell_type": "code",
      "execution_count": 9,
      "metadata": {},
      "outputs": [
        {
          "name": "stdout",
          "output_type": "stream",
          "text": [
            "[1, 2, 3, 4, 5, 6]\n"
          ]
        }
      ],
      "source": [
        "unique_elements = list(set(y_train))\n",
        "print(unique_elements)"
      ]
    },
    {
      "cell_type": "code",
      "execution_count": 10,
      "metadata": {},
      "outputs": [
        {
          "name": "stdout",
          "output_type": "stream",
          "text": [
            "(7352,)\n",
            "(2947,)\n"
          ]
        }
      ],
      "source": [
        "print(y_train.shape)\n",
        "print(y_test.shape)"
      ]
    },
    {
      "attachments": {},
      "cell_type": "markdown",
      "metadata": {
        "id": "pc1PFOmo2OUx"
      },
      "source": [
        "### 2.1.2 Análisis del conjunto de datos\n",
        "\n",
        "Responda las siguientes preguntas:\n",
        "\n",
        "> a) ¿Cuántos experimentos le quedan en el conjunto de entrenamiento y en el de test?\n",
        ">\n",
        "> `Respuesta`: 7352 y 2947 respectivamente.\n",
        "\n",
        "> b) ¿Qué valores obtiene para las dimensiones recién definidas (n_samples, signal_len, sensor)?"
      ]
    },
    {
      "cell_type": "code",
      "execution_count": 11,
      "metadata": {},
      "outputs": [
        {
          "name": "stdout",
          "output_type": "stream",
          "text": [
            "X_train: (7352, 128, 9)\n",
            "X_test: (2947, 128, 9)\n"
          ]
        }
      ],
      "source": [
        "print(f'X_train: {x_train.shape}')\n",
        "print(f'X_test: {x_test.shape}')"
      ]
    },
    {
      "attachments": {},
      "cell_type": "markdown",
      "metadata": {},
      "source": [
        "\n",
        "\n",
        "> c) Considerando todo lo que usted ha aprendido en este curso y en las tareas anteriores, ¿Qué puede decir de los atributos de este conjunto de datos?. Obtenga estadísticas descriptivas y sintetice brevemente con sus propias palabras lo que observe, apoyándose de gráficos como histográmas, boxplots heatmaps de correlación, etc.\n",
        "\n",
        "> d) Si quisiera entrenar una red neuronal feedforward con este conjunto de datos, ¿cómo deben representarse las dimensiones de cada experimento (sample) para que sirvan de entrada para este tipo de red?\n",
        "\n",
        "> e) Modifique las dimensiones de los atributos para luego entrenar una red neuronal feedforward."
      ]
    },
    {
      "cell_type": "code",
      "execution_count": 13,
      "metadata": {
        "id": "OvTNRfU-KDxO"
      },
      "outputs": [],
      "source": [
        "x_train = x_train.reshape((x_train.shape[0], x_train.shape[1] * x_train.shape[2]))\n",
        "x_test = x_test.reshape((x_test.shape[0], x_test.shape[1] * x_test.shape[2]))"
      ]
    },
    {
      "attachments": {},
      "cell_type": "markdown",
      "metadata": {
        "id": "NnHLIZLCGJ7z"
      },
      "source": [
        "> f) ¿Cómo quedó cada atributo ahora que modificó sus dimensiones?\n",
        ">\n",
        "> `Respuesta`: ???????????"
      ]
    },
    {
      "cell_type": "code",
      "execution_count": 14,
      "metadata": {},
      "outputs": [
        {
          "name": "stdout",
          "output_type": "stream",
          "text": [
            "X_train: (7352, 1152)\n",
            "X_test: (2947, 1152)\n"
          ]
        }
      ],
      "source": [
        "print(f'X_train: {x_train.shape}')\n",
        "print(f'X_test: {x_test.shape}')"
      ]
    },
    {
      "attachments": {},
      "cell_type": "markdown",
      "metadata": {
        "id": "t24ihaodFuSk"
      },
      "source": [
        "### 2.1.3 Procesamiento del conjunto de datos\n",
        "\n",
        "> a)Transforme las clases a One Hot Encoder"
      ]
    },
    {
      "cell_type": "code",
      "execution_count": 15,
      "metadata": {
        "colab": {
          "base_uri": "https://localhost:8080/"
        },
        "id": "OA9KM95lNAmk",
        "outputId": "791a741f-910b-49a4-c377-6d74c4383595"
      },
      "outputs": [
        {
          "name": "stdout",
          "output_type": "stream",
          "text": [
            "Original Labels:\n",
            "(7352,)\n",
            "\n",
            "One-Hot Encoded Labels:\n",
            "(7352, 6)\n"
          ]
        }
      ],
      "source": [
        "onehot_encoder = OneHotEncoder(sparse_output=False)\n",
        "\n",
        "y_train_OHE = onehot_encoder.fit_transform(y_train.reshape(len(y_train), 1))\n",
        "y_test_OHE = onehot_encoder.transform(y_test.reshape(len(y_test), 1))\n",
        "\n",
        "# Print the original labels and the one-hot encoded labels\n",
        "print(\"Original Labels:\")\n",
        "print(y_train.shape)\n",
        "print(\"\\nOne-Hot Encoded Labels:\")\n",
        "print(y_train_OHE.shape)"
      ]
    },
    {
      "cell_type": "code",
      "execution_count": 16,
      "metadata": {
        "id": "cPN-BmgKSNS1"
      },
      "outputs": [
        {
          "data": {
            "text/plain": [
              "'SITTING'"
            ]
          },
          "execution_count": 16,
          "metadata": {},
          "output_type": "execute_result"
        }
      ],
      "source": [
        "LABELS[np.argmax(y_train_OHE[400])]"
      ]
    },
    {
      "attachments": {},
      "cell_type": "markdown",
      "metadata": {
        "id": "DLA0RcqYfveg"
      },
      "source": [
        "> b) ¿Estan bien balanceadas las clases?\n",
        ">\n",
        "> `Respuesta`:"
      ]
    },
    {
      "cell_type": "code",
      "execution_count": 17,
      "metadata": {},
      "outputs": [
        {
          "data": {
            "image/png": "[encoded data removed]",
            "text/plain": [
              "<Figure size 640x480 with 1 Axes>"
            ]
          },
          "metadata": {},
          "output_type": "display_data"
        }
      ],
      "source": [
        "valores = np.sum(y_train_OHE, axis=0)\n",
        "indices = np.arange(len(valores))\n",
        "\n",
        "# Crear el gráfico de barras\n",
        "plt.bar(indices, valores)\n",
        "plt.xticks(indices, LABELS, rotation=45, ha='right')\n",
        "plt.title('Cantidad de datos en cada clase')\n",
        "\n",
        "# Mostrar el gráfico\n",
        "plt.show()"
      ]
    },
    {
      "attachments": {},
      "cell_type": "markdown",
      "metadata": {
        "id": "X9B4CW50G25Y"
      },
      "source": [
        "> c) Estandarice los atributos con media 0 y variaza 1."
      ]
    },
    {
      "cell_type": "code",
      "execution_count": 18,
      "metadata": {
        "id": "OSxBl1AlSlsL"
      },
      "outputs": [],
      "source": [
        "from sklearn.preprocessing import StandardScaler\n",
        "\n",
        "# Create a StandardScaler object\n",
        "scaler = StandardScaler()\n",
        "\n",
        "# Fit the scaler on the training data\n",
        "scaler.fit(x_train)\n",
        "\n",
        "# Apply the scaler to transform the training data\n",
        "x_train = scaler.transform(x_train)\n",
        "x_test = scaler.transform(x_test)\n"
      ]
    },
    {
      "attachments": {},
      "cell_type": "markdown",
      "metadata": {
        "id": "71HaVDffHEFs"
      },
      "source": [
        "## 2.2 Modelos de clasificación"
      ]
    },
    {
      "attachments": {},
      "cell_type": "markdown",
      "metadata": {
        "id": "oAPZSuZvHbq-"
      },
      "source": [
        "### 2.2.1 Redes Neuronales\n",
        "\n",
        "> a) ¿Cómo se entrena una red neuronal feedforward?\n",
        "\n",
        "> b) ¿Qué es una neurona en este contexto?\n",
        ">\n",
        "> `Respuesta`: Una neurona se refiere a una unidad computacional básica que procesa y transmite información. Cada neurona recibe una combinación lineal de las salidas de las neuronas de la capa anterior, realiza una operación de suma ponderada de estas entradas y aplica una función de activación no lineal a la suma ponderada para generar una salida. \n",
        "\n",
        "> c) ¿Qué es una función de activación y para que sirven?\n",
        ">\n",
        "> `Respuesta`: Es una función matemática que se aplica a la salida de una neurona para introducir no linealidad en la red. Estas funciones son fundamentales para que las redes neuronales sean capaces de aprender y modelar relaciones complejas en los datos.\n",
        "\n",
        "> d) ¿A qué se le llama capa densa?\n",
        ">\n",
        "> `Respuesta`: Es un tipo de capa en la que cada neurona está conectada a todas las neuronas de la capa anterior. En otras palabras, todas las entradas de una capa densa están conectadas a todas las salidas de la capa anterior.\n",
        "\n",
        "> e) Si usted conoce la dimensión entrada, la de salida, la cantidad de capas y neuronas de cada capa, ¿cómo se calcula la cantidad de pesos de la red?\n",
        ">\n",
        "> `Respuesta`: Se debe conocer además el orden de las capas ocultas. Se calcula sumando las intersecciones entre las capas, es decir, sumando las multiplicaciones entre los números de neuronas con las capas adyacentes.\n",
        "\n",
        "> f) ¿A qué se refiere el fenómeno de gradiente desvaneciente?, ¿y el gradiente explosivo?\n",
        "\n",
        "> g) Para esta tarea, como debería ser la capa de salida de la red considerando que previemente aplicó una transformación One Hot Encoding a las clases del conjunto?\n",
        ">\n",
        "> `Respuesta`: Debe ser una salida con 6 neuronas. Sin embargo, después se puede aplicar softmax para determinar aquel índice (label) con mayor probabilidad de ser la predicción.\n",
        "\n",
        "> h) Considere que la capa de entrada se llama \"input_layer\",  a la capa de salida le llamaremos \"output_layer\" y a las capas intermedias \"hidden_layer(_units_, _activation_)\" donde los parametros significan el numero de neuronas que tiene esa capa densa (Dense en Keras) y su activación. Cree las siguientes redes neuronales:\n",
        "\n",
        "* input_layer -> output_layer\n",
        "\n",
        "* input_layer -> hidden_layer(32, tanh) -> output_layer\n",
        "\n",
        "* input_layer -> hidden_layer(32, sigmoid) -> output_layer\n",
        "\n",
        "* input_layer -> hidden_layer(32, relu) -> output_layer\n",
        "\n",
        "> i) Una vez creado el modelo, imprima el sumario (modelo.summary()) y compare los resultados obtenidos con su razonamiento explicado en la pregunta e)."
      ]
    },
    {
      "attachments": {},
      "cell_type": "markdown",
      "metadata": {},
      "source": [
        "a) GPT: Para entrenar una red neuronal feedforward, se siguen los siguientes pasos:\n",
        "\n",
        "1. Inicialización de pesos: Se inicializan los pesos de la red neuronal de manera aleatoria o utilizando algún esquema predefinido.\n",
        "\n",
        "2. Propagación hacia adelante (forward propagation): Se pasa la entrada a través de la red neuronal capa por capa, aplicando una serie de transformaciones lineales y no lineales (funciones de activación) en cada capa oculta. Esto produce una predicción de salida.\n",
        "\n",
        "3. Cálculo de la función de pérdida: Se compara la predicción de salida con los valores de salida reales y se calcula la diferencia mediante una función de pérdida, como el error cuadrático medio (MSE) o la entropía cruzada.\n",
        "\n",
        "4. Retropropagación del error (backpropagation): Se propaga el error desde la capa de salida hacia atrás a través de la red, ajustando los pesos en cada capa según la contribución del error de cada neurona. Esto se hace utilizando el gradiente descendente para minimizar la función de pérdida.\n",
        "\n",
        "5. Actualización de pesos: Se actualizan los pesos de la red neuronal utilizando un algoritmo de optimización, como el descenso de gradiente estocástico (SGD) o algoritmos más avanzados como Adam o RMSprop. Esto se hace para encontrar los pesos que minimizan la función de pérdida.\n",
        "\n",
        "6. Repetición del proceso: Se repiten los pasos 2 a 5 para cada lote de datos en el conjunto de entrenamiento, en un número determinado de épocas, hasta que se alcance un criterio de parada, como convergencia o un número máximo de épocas.\n",
        "\n",
        "7. Evaluación del rendimiento: Una vez que la red neuronal ha sido entrenada, se evalúa su rendimiento utilizando conjuntos de datos de validación o prueba para medir la precisión de las predicciones.\n",
        "\n",
        "Este proceso se repite iterativamente hasta que la red neuronal logre aprender los patrones y relaciones en los datos de entrenamiento y pueda realizar predicciones precisas en nuevos datos.\n",
        "\n",
        "f) GPT: El fenómeno del gradiente desvaneciente y el gradiente explosivo son problemas que pueden ocurrir durante el entrenamiento de redes neuronales mediante la técnica de retropropagación (backpropagation).\n",
        "\n",
        "El gradiente desvaneciente se refiere a la situación en la que los gradientes se vuelven cada vez más pequeños a medida que se propagan hacia las capas más profundas de la red. Esto puede suceder cuando la función de activación utilizada (como la función sigmoide) aplana los valores de entrada, lo que resulta en gradientes cercanos a cero. Como resultado, las capas iniciales de la red reciben actualizaciones de pesos muy pequeñas y pueden aprender más lentamente o incluso dejar de aprender por completo.\n",
        "\n",
        "Por otro lado, el gradiente explosivo ocurre cuando los gradientes se vuelven cada vez más grandes a medida que se propagan hacia las capas más profundas. Esto puede suceder cuando hay capas con funciones de activación que amplifican los valores de entrada, como la función de activación ReLU. En este caso, los gradientes pueden crecer exponencialmente y causar inestabilidad numérica, dificultando la convergencia del algoritmo de entrenamiento.\n",
        "\n",
        "Ambos fenómenos pueden dificultar el entrenamiento efectivo de redes neuronales, especialmente en arquitecturas más profundas. Para mitigar el problema del gradiente desvaneciente, se pueden utilizar técnicas como la inicialización adecuada de pesos, el uso de funciones de activación que evitan el aplastamiento de gradientes (como ReLU), la normalización de los datos de entrada y el uso de técnicas de regularización. Para abordar el problema del gradiente explosivo, se pueden aplicar técnicas como la limitación de la norma de los gradientes (como la técnica de truncamiento del gradiente) o el uso de algoritmos de optimización más estables (como el descenso de gradiente estocástico con momento)."
      ]
    },
    {
      "cell_type": "code",
      "execution_count": 19,
      "metadata": {},
      "outputs": [
        {
          "name": "stdout",
          "output_type": "stream",
          "text": [
            "Model: \"model\"\n",
            "_________________________________________________________________\n",
            " Layer (type)                Output Shape              Param #   \n",
            "=================================================================\n",
            " input_1 (InputLayer)        [(None, 1152)]            0         \n",
            "                                                                 \n",
            " dense (Dense)               (None, 6)                 6918      \n",
            "                                                                 \n",
            "=================================================================\n",
            "Total params: 6,918\n",
            "Trainable params: 6,918\n",
            "Non-trainable params: 0\n",
            "_________________________________________________________________\n",
            "None\n",
            "\n",
            "\n",
            "\n",
            "Model: \"model_1\"\n",
            "_________________________________________________________________\n",
            " Layer (type)                Output Shape              Param #   \n",
            "=================================================================\n",
            " input_1 (InputLayer)        [(None, 1152)]            0         \n",
            "                                                                 \n",
            " dense_1 (Dense)             (None, 31)                35743     \n",
            "                                                                 \n",
            " dense_2 (Dense)             (None, 6)                 192       \n",
            "                                                                 \n",
            "=================================================================\n",
            "Total params: 35,935\n",
            "Trainable params: 35,935\n",
            "Non-trainable params: 0\n",
            "_________________________________________________________________\n",
            "None\n",
            "\n",
            "\n",
            "\n",
            "Model: \"model_2\"\n",
            "_________________________________________________________________\n",
            " Layer (type)                Output Shape              Param #   \n",
            "=================================================================\n",
            " input_1 (InputLayer)        [(None, 1152)]            0         \n",
            "                                                                 \n",
            " dense_3 (Dense)             (None, 32)                36896     \n",
            "                                                                 \n",
            " dense_4 (Dense)             (None, 6)                 198       \n",
            "                                                                 \n",
            "=================================================================\n",
            "Total params: 37,094\n",
            "Trainable params: 37,094\n",
            "Non-trainable params: 0\n",
            "_________________________________________________________________\n",
            "None\n",
            "\n",
            "\n",
            "\n",
            "Model: \"model_3\"\n",
            "_________________________________________________________________\n",
            " Layer (type)                Output Shape              Param #   \n",
            "=================================================================\n",
            " input_1 (InputLayer)        [(None, 1152)]            0         \n",
            "                                                                 \n",
            " dense_5 (Dense)             (None, 32)                36896     \n",
            "                                                                 \n",
            " dense_6 (Dense)             (None, 6)                 198       \n",
            "                                                                 \n",
            "=================================================================\n",
            "Total params: 37,094\n",
            "Trainable params: 37,094\n",
            "Non-trainable params: 0\n",
            "_________________________________________________________________\n",
            "None\n"
          ]
        }
      ],
      "source": [
        "from keras.models import Model\n",
        "from keras.layers import Dense, Input\n",
        "from keras.activations import softmax, tanh, sigmoid, relu\n",
        "\n",
        "input_layer = Input(shape = (x_train.shape[1:]))\n",
        "output_layer_0 = Dense(units=6, activation=softmax)(input_layer)\n",
        "ANN_0 = Model(inputs=input_layer, outputs=output_layer_0)\n",
        "print(f'{ANN_0.summary()}')\n",
        "print('\\n\\n')\n",
        "\n",
        "hidden_1 = Dense(units=31, activation=tanh)(input_layer)\n",
        "output_layer_1 = Dense(units=6, activation=softmax)(hidden_1)\n",
        "ANN_1 = Model(inputs=input_layer, outputs=output_layer_1)\n",
        "print(f'{ANN_1.summary()}')\n",
        "print('\\n\\n')\n",
        "\n",
        "hidden_2 = Dense(units=32, activation=sigmoid)(input_layer)\n",
        "output_layer_2 = Dense(units=6, activation=softmax)(hidden_2)\n",
        "ANN_2= Model(inputs=input_layer, outputs=output_layer_2)\n",
        "print(f'{ANN_2.summary()}')\n",
        "print('\\n\\n')\n",
        "\n",
        "hidden_3 = Dense(units=32, activation=relu)(input_layer)\n",
        "output_layer_3 = Dense(units=6, activation=softmax)(hidden_3)\n",
        "ANN_3 = Model(inputs=input_layer, outputs=output_layer_3)\n",
        "print(f'{ANN_3.summary()}')"
      ]
    },
    {
      "attachments": {},
      "cell_type": "markdown",
      "metadata": {},
      "source": [
        "i) `Respuesta`: relacionar número de neuronas ??"
      ]
    },
    {
      "attachments": {},
      "cell_type": "markdown",
      "metadata": {
        "id": "65makHJ-R-Ri"
      },
      "source": [
        " > j) Defina un callback de Early Stopping para evitar un sobre ajuste de la red basandose en sus respuestas a las siguientes preguntas:\n",
        "\n",
        "* ¿Qué es lo que se debería monitorear para evitar el sobre ajuste en esta red?\n",
        "\n",
        "* ¿Qué es la paciencia en este contexto?\n",
        "\n",
        "* ¿Para qué se usa el parámetro min_delta?\n",
        "\n",
        "> k) Compile el modelo usando como optimizador el gradiente descendente estocástico, utilice la métrica \"categorical_accuracy\" y responda lo siguiente:\n",
        "\n",
        "* ¿Qúe función de pérdida se debe usar para este problema (loss)?\n",
        "\n",
        "**Nota:** Si bien en un mundo ideal donde hay tiempo y recursos para explorar un subconjunto del espacio de hipótesis lo suficientemente amplio como para cubrir todas las posibles combinaciones de hiperparámetros, en esta tarea solo se explorarán algunos."
      ]
    },
    {
      "cell_type": "code",
      "execution_count": 19,
      "metadata": {
        "id": "H1X90GcGdUhG"
      },
      "outputs": [
        {
          "ename": "NameError",
          "evalue": "name 'ANN' is not defined",
          "output_type": "error",
          "traceback": [
            "\u001b[1;31m---------------------------------------------------------------------------\u001b[0m",
            "\u001b[1;31mNameError\u001b[0m                                 Traceback (most recent call last)",
            "Cell \u001b[1;32mIn[19], line 4\u001b[0m\n\u001b[0;32m      1\u001b[0m \u001b[39mfrom\u001b[39;00m \u001b[39mkeras\u001b[39;00m\u001b[39m.\u001b[39;00m\u001b[39mcallbacks\u001b[39;00m \u001b[39mimport\u001b[39;00m ModelCheckpoint, EarlyStopping\n\u001b[0;32m      3\u001b[0m early_stop \u001b[39m=\u001b[39m EarlyStopping(monitor\u001b[39m=\u001b[39m\u001b[39m'\u001b[39m\u001b[39mval_accuracy\u001b[39m\u001b[39m'\u001b[39m,mode\u001b[39m=\u001b[39m\u001b[39m'\u001b[39m\u001b[39mmax\u001b[39m\u001b[39m'\u001b[39m, verbose\u001b[39m=\u001b[39m\u001b[39m1\u001b[39m, patience\u001b[39m=\u001b[39m\u001b[39m50\u001b[39m)\n\u001b[1;32m----> 4\u001b[0m ANN\u001b[39m.\u001b[39mcompile(optimizer\u001b[39m=\u001b[39m\u001b[39m'\u001b[39m\u001b[39msgd\u001b[39m\u001b[39m'\u001b[39m, loss\u001b[39m=\u001b[39m\u001b[39m'\u001b[39m\u001b[39mcategorical_crossentropy\u001b[39m\u001b[39m'\u001b[39m,metrics\u001b[39m=\u001b[39m[\u001b[39m'\u001b[39m\u001b[39mcategorical_accuracy\u001b[39m\u001b[39m'\u001b[39m])\n",
            "\u001b[1;31mNameError\u001b[0m: name 'ANN' is not defined"
          ]
        }
      ],
      "source": [
        "from keras.callbacks import ModelCheckpoint, EarlyStopping\n",
        "\n",
        "early_stop = EarlyStopping(monitor='val_accuracy',mode='max', verbose=1, patience=50)\n",
        "ANN.compile(optimizer='sgd', loss='categorical_crossentropy',metrics=['categorical_accuracy'])"
      ]
    },
    {
      "attachments": {},
      "cell_type": "markdown",
      "metadata": {
        "id": "QFnrOI-TZNpY"
      },
      "source": [
        "> l) Entrene el modelo utilizando el callback definido en la pregunta anterior con 100 epochs,un batch_size=256, y validation split=0.1.\n",
        "\n",
        "* ¿Qué significa el batch_size?\n",
        "\n",
        "**Nota:** Por favor recuerde ocultar el output del entrenamiento!! Mantenga el orden de su tarea y justifique de forma óptima sus resultados."
      ]
    },
    {
      "cell_type": "code",
      "execution_count": null,
      "metadata": {
        "id": "48b7cFteeqFM"
      },
      "outputs": [],
      "source": [
        "history = ANN.fit(x_train, y_train_OHE, \n",
        "                  batch_size=64, \n",
        "                  epochs=100,\n",
        "                  validation_split=0.1,\n",
        "                  callbacks=[early_stop])"
      ]
    },
    {
      "attachments": {},
      "cell_type": "markdown",
      "metadata": {
        "id": "wqse2x-GazGT"
      },
      "source": [
        "> m) Escoja el mejor modelo según la función de activación y puntuación obtenida en el conjunto de validación y pruebe con los siguientes modelos:\n",
        "\n",
        "* input_layer -> hidden_layer(64, best_activ) -> hidden_layer(32, best_activ) -> output_layer\n",
        "\n",
        "* input_layer -> hidden_layer(128, best_activ) -> hidden_layer(64, best_activ) -> hidden_layer(32, best_activ) -> output_layer\n",
        "\n",
        "* input_layer -> hidden_layer(256, best_activ) -> hidden_layer(128, best_activ) -> hidden_layer(64, best_activ) -> hidden_layer(32, best_activ) -> output_layer"
      ]
    },
    {
      "cell_type": "code",
      "execution_count": null,
      "metadata": {
        "id": "buwW4LGtb5gC"
      },
      "outputs": [],
      "source": [
        "\"\"\"\n",
        "Su código aquí\n",
        "\"\"\""
      ]
    },
    {
      "attachments": {},
      "cell_type": "markdown",
      "metadata": {
        "id": "WyFCM8N7b82n"
      },
      "source": [
        ">n) Imprima las curvas de error y accuracy del conjunto de entrenamiento y de validación para observar como se comporta el _aprendizaje_ de sus modelos."
      ]
    },
    {
      "cell_type": "code",
      "execution_count": null,
      "metadata": {
        "id": "h6xS3p9Rg_jM"
      },
      "outputs": [],
      "source": [
        "import matplotlib.pyplot as plt\n",
        "\n",
        "# Access the training and validation errors from the history object\n",
        "train_errors = history.history['accuracy']\n",
        "val_errors = history.history['val_accuracy']\n",
        "\n",
        "# Get the number of epochs\n",
        "epochs = range(1, len(train_errors) + 1)\n",
        "\n",
        "# Plotting the learning curves\n",
        "plt.plot(epochs, train_errors, label='Training Accuracy')\n",
        "plt.plot(epochs, val_errors, label='Validation Accuracy')\n",
        "\n",
        "# Adding labels and title\n",
        "plt.xlabel('Epochs')\n",
        "plt.ylabel('Accuracy')\n",
        "plt.title('Learning Curves')\n",
        "plt.legend()\n",
        "\n",
        "# Displaying the plot\n",
        "plt.show()"
      ]
    },
    {
      "attachments": {},
      "cell_type": "markdown",
      "metadata": {
        "id": "_OGcBz2jcT3k"
      },
      "source": [
        "> o) Una vez terminados los entrenamientos elija la mejor red hasta ahora y entrénela con el conjunto de entrenamiento completo sin validation split."
      ]
    },
    {
      "cell_type": "code",
      "execution_count": null,
      "metadata": {
        "id": "dq9q5Bn_cxG6"
      },
      "outputs": [],
      "source": [
        "\"\"\"\n",
        "Su código aquí\n",
        "\"\"\""
      ]
    },
    {
      "attachments": {},
      "cell_type": "markdown",
      "metadata": {
        "id": "PD5GTcznc09Y"
      },
      "source": [
        "> p) Procese las predicciones del modelo sobre el conjunto de test para que pueda comparar los errores usando un heatmap de la matriz de confusión."
      ]
    },
    {
      "cell_type": "code",
      "execution_count": null,
      "metadata": {
        "id": "zFW02e31uM6p"
      },
      "outputs": [],
      "source": [
        "y_pred = ANN(x_test)\n",
        "y_pred = np.argmax(y_pred, axis=1)"
      ]
    },
    {
      "cell_type": "code",
      "execution_count": null,
      "metadata": {
        "id": "MxrY1Q8fvO-7"
      },
      "outputs": [],
      "source": [
        "y_test_comp = np.argmax(y_test_OHE, axis=1)"
      ]
    },
    {
      "cell_type": "code",
      "execution_count": null,
      "metadata": {
        "id": "5VYezZeQw8wj"
      },
      "outputs": [],
      "source": [
        "from sklearn.metrics import confusion_matrix\n",
        "\n",
        "cat = np.array([1,2,3,4,5,6])\n",
        "\n",
        "# Create the confusion matrix\n",
        "cm = confusion_matrix(cat[y_test_comp], cat[y_pred])\n",
        "\n",
        "# Get the number of classes\n",
        "num_classes = 6\n",
        "\n",
        "# Plot the confusion matrix\n",
        "plt.figure(figsize=(8, 6))\n",
        "plt.imshow(cm, interpolation='nearest', cmap=plt.cm.Blues)\n",
        "plt.title('Confusion Matrix')\n",
        "plt.colorbar()\n",
        "\n",
        "# Add x-axis and y-axis labels\n",
        "tick_marks = np.arange(num_classes)\n",
        "plt.xticks(tick_marks, LABELS, rotation=75)\n",
        "plt.yticks(tick_marks, LABELS)\n",
        "\n",
        "# Add labels to each cell\n",
        "thresh = cm.max() / 2.0\n",
        "for i in range(num_classes):\n",
        "    for j in range(num_classes):\n",
        "        plt.text(j, i, format(cm[i, j], 'd'),\n",
        "                 horizontalalignment=\"center\",\n",
        "                 color=\"white\" if cm[i, j] > thresh else \"black\")\n",
        "\n",
        "# Add axis labels\n",
        "plt.ylabel('True label')\n",
        "plt.xlabel('Predicted label')\n",
        "\n",
        "# Show the plot\n",
        "plt.tight_layout()\n",
        "plt.show()\n"
      ]
    },
    {
      "attachments": {},
      "cell_type": "markdown",
      "metadata": {
        "id": "nmC9JAo4fWre"
      },
      "source": [
        "> q) Comente acerca de los resultados y explique cual es la actividad que mejor logra clasificar la red."
      ]
    },
    {
      "attachments": {},
      "cell_type": "markdown",
      "metadata": {
        "id": "nYqpcB9OgChG"
      },
      "source": [
        "### 2.2.2 AdaBoost y arbustos\n",
        "\n",
        "> a) Describa brevemente como funciona el modelo AdaBoost.\n",
        "\n",
        "> b) ¿Qué clasificador se puede usar junto con Adaboost?\n",
        "\n",
        "> c) ¿Cómo funciona el _learning rate_ en el modelo AdaBoost?\n",
        "\n",
        "> d) Separe el conjunto de entrenamiento dejando el 10% para validación.\n",
        "\n",
        "> e) Entrene un clasificador AdaBoost con un arbusto (árbol de profundidad=2) con 300 estimadores y learning_rate=1\n",
        "\n",
        "**Nota:** Este modelo no usa One Hot Encoder para las clases, investigue como preprocesar los datos del conjunto para entrenar este modelo. Puede guiarse con el siguiente tutorial de sklearn: https://scikit-learn.org/stable/auto_examples/ensemble/plot_adaboost_multiclass.html#sphx-glr-auto-examples-ensemble-plot-adaboost-multiclass-py\n",
        "\n",
        "a) GPT: AdaBoost (Adaptive Boosting) es un algoritmo de aprendizaje automático que utiliza un conjunto de clasificadores débiles para construir un clasificador fuerte. Su funcionamiento se puede describir en los siguientes pasos:\n",
        "\n",
        "1. Inicialización: Se asigna un peso igual a cada muestra de entrenamiento. Estos pesos indican la importancia de cada muestra en el proceso de entrenamiento.\n",
        "\n",
        "2. Entrenamiento de clasificadores débiles: Se entrena un clasificador débil utilizando las muestras de entrenamiento ponderadas por sus pesos. Un clasificador débil es un modelo de aprendizaje automático que tiene un rendimiento ligeramente mejor que el azar, como un árbol de decisión con una profundidad limitada.\n",
        "\n",
        "3. Evaluación del rendimiento: Se evalúa el rendimiento del clasificador débil en las muestras de entrenamiento. Las muestras mal clasificadas reciben un peso mayor, lo que las hace más importantes para el siguiente clasificador débil.\n",
        "\n",
        "4. Actualización de pesos: Se actualizan los pesos de las muestras de entrenamiento en función de su rendimiento y se asignan nuevos pesos a las muestras mal clasificadas.\n",
        "\n",
        "5. Construcción del clasificador fuerte: Se repiten los pasos 2 a 4 varias veces, entrenando un conjunto de clasificadores débiles en secuencia. Cada clasificador se ajusta a las muestras de entrenamiento con mayor énfasis en las muestras que fueron clasificadas incorrectamente por los clasificadores anteriores.\n",
        "\n",
        "6. Combinación de clasificadores débiles: Se combina el conjunto de clasificadores débiles para formar un clasificador fuerte mediante una combinación ponderada de sus resultados individuales. La combinación se basa en los pesos asignados a cada clasificador débil durante el entrenamiento.\n",
        "\n",
        "En resumen, AdaBoost construye un clasificador fuerte al iterar sobre clasificadores débiles y asignar pesos a las muestras de entrenamiento en función de su dificultad de clasificación. El clasificador fuerte final tiene en cuenta las fortalezas individuales de los clasificadores débiles y puede mejorar significativamente el rendimiento de clasificación en comparación con el uso de un solo clasificador débil.\n",
        "\n",
        "b) GPT: AdaBoost es un algoritmo de ensemble learning que puede utilizarse junto con varios clasificadores débiles. En teoría, se puede utilizar cualquier clasificador débil como base para AdaBoost. Algunos ejemplos comunes de clasificadores débiles utilizados con AdaBoost son:\n",
        "\n",
        "1. Decision Trees (Árboles de decisión): Los árboles de decisión son clasificadores débiles populares utilizados en combinación con AdaBoost. Estos árboles de decisión se conocen como \"stumps\" cuando tienen solo una sola división o \"decision stumps\" cuando tienen una profundidad limitada.\n",
        "\n",
        "2. SVM (Support Vector Machines): Los clasificadores SVM también se pueden utilizar como clasificadores débiles en el algoritmo AdaBoost. Se pueden ajustar clasificadores SVM con distintos kernels para adaptarse a diferentes tipos de datos.\n",
        "\n",
        "3. Naive Bayes: Los clasificadores Naive Bayes, que se basan en el teorema de Bayes y asumen independencia condicional entre las características, también pueden utilizarse con AdaBoost.\n",
        "\n",
        "4. Redes Neuronales: Las redes neuronales con una sola capa oculta o con una estructura simplificada también pueden ser clasificadores débiles utilizados con AdaBoost.\n",
        "\n",
        "Es importante destacar que AdaBoost no está limitado a un solo tipo de clasificador débil y se puede combinar con una variedad de algoritmos para construir un clasificador fuerte. La elección del clasificador débil depende del problema específico y de las características de los datos.\n",
        "\n",
        "c) GPT: El _learning rate_ en el modelo AdaBoost es un hiperparámetro que controla la contribución de cada clasificador débil al modelo final. Determina la cantidad con la que se ajustan los pesos de los clasificadores débiles durante el proceso de entrenamiento.\n",
        "\n",
        "En AdaBoost, en cada iteración del algoritmo, se ajustan los pesos de las instancias de entrenamiento para dar más importancia a las instancias que fueron clasificadas incorrectamente por los clasificadores anteriores. El _learning rate_ controla qué tan rápido se ajustan estos pesos. Un valor de _learning rate_ bajo indica un ajuste más lento, mientras que un valor alto indica un ajuste más rápido.\n",
        "\n",
        "Un _learning rate_ bajo significa que cada clasificador débil contribuye menos al modelo final, lo que resulta en un modelo más conservador y menos propenso a sobreajustar los datos de entrenamiento. Por otro lado, un _learning rate_ alto permite que cada clasificador débil tenga una mayor influencia en el modelo final, lo que puede conducir a un ajuste más preciso de los datos de entrenamiento, pero también aumenta el riesgo de sobreajuste.\n",
        "\n",
        "Es importante ajustar el valor del _learning rate_ cuidadosamente, ya que un valor demasiado bajo puede hacer que el modelo requiera muchas iteraciones para converger, mientras que un valor demasiado alto puede conducir a una convergencia rápida pero a un rendimiento subóptimo. Por lo tanto, encontrar un equilibrio adecuado es crucial para obtener buenos resultados con AdaBoost."
      ]
    },
    {
      "cell_type": "code",
      "execution_count": null,
      "metadata": {
        "id": "pHhynnuC8fy3"
      },
      "outputs": [],
      "source": [
        "ada = AdaBoostClassifier(\n",
        "    DecisionTreeClassifier(max_depth=2), n_estimators=300, learning_rate=1\n",
        ")"
      ]
    },
    {
      "cell_type": "code",
      "execution_count": null,
      "metadata": {
        "id": "fj5889e68-SG"
      },
      "outputs": [],
      "source": [
        "ada.fit(x_train, y_train)"
      ]
    },
    {
      "attachments": {},
      "cell_type": "markdown",
      "metadata": {
        "id": "dN0H0C-2Vdzl"
      },
      "source": [
        "> f) Revise el error de validación con el conjunto de validaión."
      ]
    },
    {
      "cell_type": "code",
      "execution_count": null,
      "metadata": {
        "id": "66IPqBlAAIK2"
      },
      "outputs": [],
      "source": [
        "ada_errors = []\n",
        "\n",
        "for ada_val_predict in ada.staged_predict(x_val):\n",
        "    ada_val_errors.append(1.0 - accuracy_score(ada_val_predict, y_val))    \n",
        "\n",
        "n_trees_ada = len(ada)"
      ]
    },
    {
      "attachments": {},
      "cell_type": "markdown",
      "metadata": {
        "id": "yGtrDlfST44V"
      },
      "source": [
        "> g) Haga la misma prueba pero ahora con 30 estimadores"
      ]
    },
    {
      "cell_type": "code",
      "execution_count": null,
      "metadata": {
        "id": "FJoxYyhnV5Mw"
      },
      "outputs": [],
      "source": [
        "..."
      ]
    },
    {
      "attachments": {},
      "cell_type": "markdown",
      "metadata": {
        "id": "NnFH55GLV6fR"
      },
      "source": [
        "> h) Una vez encontrado el mejor modelo basandose en el error de validación, entrene el mejr modelo con todo el conjunto de entrenamiento, es decir, sin hacer _validation split_ y luego evalúe el modelo sobre el conjunto de pruebas."
      ]
    },
    {
      "cell_type": "code",
      "execution_count": null,
      "metadata": {
        "id": "jA_GlqHVYAL_"
      },
      "outputs": [],
      "source": []
    },
    {
      "attachments": {},
      "cell_type": "markdown",
      "metadata": {
        "id": "vM_9PTdZX_vr"
      },
      "source": [
        "> i) Muestre la matriz de confusión y comente sus resultados."
      ]
    },
    {
      "cell_type": "code",
      "execution_count": null,
      "metadata": {
        "id": "t-g8d3-xYGiA"
      },
      "outputs": [],
      "source": []
    },
    {
      "attachments": {},
      "cell_type": "markdown",
      "metadata": {
        "id": "vxLbY6g9YG-q"
      },
      "source": [
        "## 2.3 Conclusiones\n",
        "\n",
        "Comente con qué modelo obtiene los mejores resultados, ¿qué otros experimentos realizaría para intentar mejorar los resultados?\n",
        "\n"
      ]
    }
  ],
  "metadata": {
    "colab": {
      "provenance": [],
      "toc_visible": true
    },
    "kernelspec": {
      "display_name": "Python 3",
      "name": "python3"
    },
    "language_info": {
      "codemirror_mode": {
        "name": "ipython",
        "version": 3
      },
      "file_extension": ".py",
      "mimetype": "text/x-python",
      "name": "python",
      "nbconvert_exporter": "python",
      "pygments_lexer": "ipython3",
      "version": "3.10.9"
    }
  },
  "nbformat": 4,
  "nbformat_minor": 0
}
